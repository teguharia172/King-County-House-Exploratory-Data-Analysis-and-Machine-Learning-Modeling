{
 "cells": [
  {
   "cell_type": "code",
   "execution_count": 227,
   "metadata": {},
   "outputs": [],
   "source": [
    "import pandas as pd\n",
    "import numpy as np\n",
    "import matplotlib.pyplot as plt\n",
    "from sklearn.linear_model import LinearRegression, Lasso, Ridge\n",
    "from sklearn.model_selection import train_test_split,GridSearchCV\n",
    "import seaborn as sns\n",
    "from sklearn.metrics import r2_score, mean_absolute_error, mean_squared_error\n",
    "from sklearn.neighbors import KNeighborsRegressor\n",
    "from sklearn.ensemble import RandomForestRegressor\n",
    "from sklearn.tree import DecisionTreeRegressor"
   ]
  },
  {
   "cell_type": "code",
   "execution_count": 2,
   "metadata": {},
   "outputs": [
    {
     "data": {
      "text/html": [
       "<div>\n",
       "<style scoped>\n",
       "    .dataframe tbody tr th:only-of-type {\n",
       "        vertical-align: middle;\n",
       "    }\n",
       "\n",
       "    .dataframe tbody tr th {\n",
       "        vertical-align: top;\n",
       "    }\n",
       "\n",
       "    .dataframe thead th {\n",
       "        text-align: right;\n",
       "    }\n",
       "</style>\n",
       "<table border=\"1\" class=\"dataframe\">\n",
       "  <thead>\n",
       "    <tr style=\"text-align: right;\">\n",
       "      <th></th>\n",
       "      <th>id</th>\n",
       "      <th>date</th>\n",
       "      <th>price</th>\n",
       "      <th>bedrooms</th>\n",
       "      <th>bathrooms</th>\n",
       "      <th>sqft_living</th>\n",
       "      <th>sqft_lot</th>\n",
       "      <th>floors</th>\n",
       "      <th>waterfront</th>\n",
       "      <th>view</th>\n",
       "      <th>condition</th>\n",
       "      <th>grade</th>\n",
       "      <th>sqft_above</th>\n",
       "      <th>sqft_basement</th>\n",
       "      <th>yr_built</th>\n",
       "      <th>yr_renovated</th>\n",
       "      <th>zipcode</th>\n",
       "      <th>lat</th>\n",
       "      <th>long</th>\n",
       "      <th>sqft_living15</th>\n",
       "      <th>sqft_lot15</th>\n",
       "    </tr>\n",
       "  </thead>\n",
       "  <tbody>\n",
       "    <tr>\n",
       "      <th>0</th>\n",
       "      <td>7129300520</td>\n",
       "      <td>2014-10-13</td>\n",
       "      <td>221900.0</td>\n",
       "      <td>3</td>\n",
       "      <td>1.00</td>\n",
       "      <td>1180</td>\n",
       "      <td>5650</td>\n",
       "      <td>1.0</td>\n",
       "      <td>0</td>\n",
       "      <td>0</td>\n",
       "      <td>3</td>\n",
       "      <td>7</td>\n",
       "      <td>1180</td>\n",
       "      <td>0</td>\n",
       "      <td>1955</td>\n",
       "      <td>0</td>\n",
       "      <td>98178</td>\n",
       "      <td>47.5112</td>\n",
       "      <td>-122.257</td>\n",
       "      <td>1340</td>\n",
       "      <td>5650</td>\n",
       "    </tr>\n",
       "    <tr>\n",
       "      <th>1</th>\n",
       "      <td>6414100192</td>\n",
       "      <td>2014-12-09</td>\n",
       "      <td>538000.0</td>\n",
       "      <td>3</td>\n",
       "      <td>2.25</td>\n",
       "      <td>2570</td>\n",
       "      <td>7242</td>\n",
       "      <td>2.0</td>\n",
       "      <td>0</td>\n",
       "      <td>0</td>\n",
       "      <td>3</td>\n",
       "      <td>7</td>\n",
       "      <td>2170</td>\n",
       "      <td>400</td>\n",
       "      <td>1951</td>\n",
       "      <td>1991</td>\n",
       "      <td>98125</td>\n",
       "      <td>47.7210</td>\n",
       "      <td>-122.319</td>\n",
       "      <td>1690</td>\n",
       "      <td>7639</td>\n",
       "    </tr>\n",
       "    <tr>\n",
       "      <th>2</th>\n",
       "      <td>5631500400</td>\n",
       "      <td>2015-02-25</td>\n",
       "      <td>180000.0</td>\n",
       "      <td>2</td>\n",
       "      <td>1.00</td>\n",
       "      <td>770</td>\n",
       "      <td>10000</td>\n",
       "      <td>1.0</td>\n",
       "      <td>0</td>\n",
       "      <td>0</td>\n",
       "      <td>3</td>\n",
       "      <td>6</td>\n",
       "      <td>770</td>\n",
       "      <td>0</td>\n",
       "      <td>1933</td>\n",
       "      <td>0</td>\n",
       "      <td>98028</td>\n",
       "      <td>47.7379</td>\n",
       "      <td>-122.233</td>\n",
       "      <td>2720</td>\n",
       "      <td>8062</td>\n",
       "    </tr>\n",
       "    <tr>\n",
       "      <th>3</th>\n",
       "      <td>2487200875</td>\n",
       "      <td>2014-12-09</td>\n",
       "      <td>604000.0</td>\n",
       "      <td>4</td>\n",
       "      <td>3.00</td>\n",
       "      <td>1960</td>\n",
       "      <td>5000</td>\n",
       "      <td>1.0</td>\n",
       "      <td>0</td>\n",
       "      <td>0</td>\n",
       "      <td>5</td>\n",
       "      <td>7</td>\n",
       "      <td>1050</td>\n",
       "      <td>910</td>\n",
       "      <td>1965</td>\n",
       "      <td>0</td>\n",
       "      <td>98136</td>\n",
       "      <td>47.5208</td>\n",
       "      <td>-122.393</td>\n",
       "      <td>1360</td>\n",
       "      <td>5000</td>\n",
       "    </tr>\n",
       "    <tr>\n",
       "      <th>4</th>\n",
       "      <td>1954400510</td>\n",
       "      <td>2015-02-18</td>\n",
       "      <td>510000.0</td>\n",
       "      <td>3</td>\n",
       "      <td>2.00</td>\n",
       "      <td>1680</td>\n",
       "      <td>8080</td>\n",
       "      <td>1.0</td>\n",
       "      <td>0</td>\n",
       "      <td>0</td>\n",
       "      <td>3</td>\n",
       "      <td>8</td>\n",
       "      <td>1680</td>\n",
       "      <td>0</td>\n",
       "      <td>1987</td>\n",
       "      <td>0</td>\n",
       "      <td>98074</td>\n",
       "      <td>47.6168</td>\n",
       "      <td>-122.045</td>\n",
       "      <td>1800</td>\n",
       "      <td>7503</td>\n",
       "    </tr>\n",
       "  </tbody>\n",
       "</table>\n",
       "</div>"
      ],
      "text/plain": [
       "           id       date     price  bedrooms  bathrooms  sqft_living  \\\n",
       "0  7129300520 2014-10-13  221900.0         3       1.00         1180   \n",
       "1  6414100192 2014-12-09  538000.0         3       2.25         2570   \n",
       "2  5631500400 2015-02-25  180000.0         2       1.00          770   \n",
       "3  2487200875 2014-12-09  604000.0         4       3.00         1960   \n",
       "4  1954400510 2015-02-18  510000.0         3       2.00         1680   \n",
       "\n",
       "   sqft_lot  floors  waterfront  view  condition  grade  sqft_above  \\\n",
       "0      5650     1.0           0     0          3      7        1180   \n",
       "1      7242     2.0           0     0          3      7        2170   \n",
       "2     10000     1.0           0     0          3      6         770   \n",
       "3      5000     1.0           0     0          5      7        1050   \n",
       "4      8080     1.0           0     0          3      8        1680   \n",
       "\n",
       "   sqft_basement  yr_built  yr_renovated  zipcode      lat     long  \\\n",
       "0              0      1955             0    98178  47.5112 -122.257   \n",
       "1            400      1951          1991    98125  47.7210 -122.319   \n",
       "2              0      1933             0    98028  47.7379 -122.233   \n",
       "3            910      1965             0    98136  47.5208 -122.393   \n",
       "4              0      1987             0    98074  47.6168 -122.045   \n",
       "\n",
       "   sqft_living15  sqft_lot15  \n",
       "0           1340        5650  \n",
       "1           1690        7639  \n",
       "2           2720        8062  \n",
       "3           1360        5000  \n",
       "4           1800        7503  "
      ]
     },
     "execution_count": 2,
     "metadata": {},
     "output_type": "execute_result"
    }
   ],
   "source": [
    "df = pd.read_csv('house.csv',parse_dates=['date'])\n",
    "pd.set_option('display.max_columns', None)\n",
    "df.head()"
   ]
  },
  {
   "cell_type": "markdown",
   "metadata": {},
   "source": [
    "### Getting the basic understanding of the data "
   ]
  },
  {
   "cell_type": "code",
   "execution_count": 3,
   "metadata": {},
   "outputs": [
    {
     "name": "stdout",
     "output_type": "stream",
     "text": [
      "<class 'pandas.core.frame.DataFrame'>\n",
      "RangeIndex: 21613 entries, 0 to 21612\n",
      "Data columns (total 21 columns):\n",
      " #   Column         Non-Null Count  Dtype         \n",
      "---  ------         --------------  -----         \n",
      " 0   id             21613 non-null  int64         \n",
      " 1   date           21613 non-null  datetime64[ns]\n",
      " 2   price          21613 non-null  float64       \n",
      " 3   bedrooms       21613 non-null  int64         \n",
      " 4   bathrooms      21613 non-null  float64       \n",
      " 5   sqft_living    21613 non-null  int64         \n",
      " 6   sqft_lot       21613 non-null  int64         \n",
      " 7   floors         21613 non-null  float64       \n",
      " 8   waterfront     21613 non-null  int64         \n",
      " 9   view           21613 non-null  int64         \n",
      " 10  condition      21613 non-null  int64         \n",
      " 11  grade          21613 non-null  int64         \n",
      " 12  sqft_above     21613 non-null  int64         \n",
      " 13  sqft_basement  21613 non-null  int64         \n",
      " 14  yr_built       21613 non-null  int64         \n",
      " 15  yr_renovated   21613 non-null  int64         \n",
      " 16  zipcode        21613 non-null  int64         \n",
      " 17  lat            21613 non-null  float64       \n",
      " 18  long           21613 non-null  float64       \n",
      " 19  sqft_living15  21613 non-null  int64         \n",
      " 20  sqft_lot15     21613 non-null  int64         \n",
      "dtypes: datetime64[ns](1), float64(5), int64(15)\n",
      "memory usage: 3.5 MB\n"
     ]
    }
   ],
   "source": [
    "df.info()"
   ]
  },
  {
   "cell_type": "code",
   "execution_count": 4,
   "metadata": {},
   "outputs": [
    {
     "data": {
      "text/plain": [
       "id               0\n",
       "date             0\n",
       "price            0\n",
       "bedrooms         0\n",
       "bathrooms        0\n",
       "sqft_living      0\n",
       "sqft_lot         0\n",
       "floors           0\n",
       "waterfront       0\n",
       "view             0\n",
       "condition        0\n",
       "grade            0\n",
       "sqft_above       0\n",
       "sqft_basement    0\n",
       "yr_built         0\n",
       "yr_renovated     0\n",
       "zipcode          0\n",
       "lat              0\n",
       "long             0\n",
       "sqft_living15    0\n",
       "sqft_lot15       0\n",
       "dtype: int64"
      ]
     },
     "execution_count": 4,
     "metadata": {},
     "output_type": "execute_result"
    }
   ],
   "source": [
    "df.isna().sum()\n",
    "\n",
    "#theres no null value in this d"
   ]
  },
  {
   "cell_type": "code",
   "execution_count": 5,
   "metadata": {},
   "outputs": [
    {
     "data": {
      "text/html": [
       "<div>\n",
       "<style scoped>\n",
       "    .dataframe tbody tr th:only-of-type {\n",
       "        vertical-align: middle;\n",
       "    }\n",
       "\n",
       "    .dataframe tbody tr th {\n",
       "        vertical-align: top;\n",
       "    }\n",
       "\n",
       "    .dataframe thead th {\n",
       "        text-align: right;\n",
       "    }\n",
       "</style>\n",
       "<table border=\"1\" class=\"dataframe\">\n",
       "  <thead>\n",
       "    <tr style=\"text-align: right;\">\n",
       "      <th></th>\n",
       "      <th>id</th>\n",
       "      <th>price</th>\n",
       "      <th>bedrooms</th>\n",
       "      <th>bathrooms</th>\n",
       "      <th>sqft_living</th>\n",
       "      <th>sqft_lot</th>\n",
       "      <th>floors</th>\n",
       "      <th>waterfront</th>\n",
       "      <th>view</th>\n",
       "      <th>condition</th>\n",
       "      <th>grade</th>\n",
       "      <th>sqft_above</th>\n",
       "      <th>sqft_basement</th>\n",
       "      <th>yr_built</th>\n",
       "      <th>yr_renovated</th>\n",
       "      <th>zipcode</th>\n",
       "      <th>lat</th>\n",
       "      <th>long</th>\n",
       "      <th>sqft_living15</th>\n",
       "      <th>sqft_lot15</th>\n",
       "    </tr>\n",
       "  </thead>\n",
       "  <tbody>\n",
       "    <tr>\n",
       "      <th>count</th>\n",
       "      <td>2.161300e+04</td>\n",
       "      <td>2.161300e+04</td>\n",
       "      <td>21613.000000</td>\n",
       "      <td>21613.000000</td>\n",
       "      <td>21613.000000</td>\n",
       "      <td>2.161300e+04</td>\n",
       "      <td>21613.000000</td>\n",
       "      <td>21613.000000</td>\n",
       "      <td>21613.000000</td>\n",
       "      <td>21613.000000</td>\n",
       "      <td>21613.000000</td>\n",
       "      <td>21613.000000</td>\n",
       "      <td>21613.000000</td>\n",
       "      <td>21613.000000</td>\n",
       "      <td>21613.000000</td>\n",
       "      <td>21613.000000</td>\n",
       "      <td>21613.000000</td>\n",
       "      <td>21613.000000</td>\n",
       "      <td>21613.000000</td>\n",
       "      <td>21613.000000</td>\n",
       "    </tr>\n",
       "    <tr>\n",
       "      <th>mean</th>\n",
       "      <td>4.580302e+09</td>\n",
       "      <td>5.400881e+05</td>\n",
       "      <td>3.370842</td>\n",
       "      <td>2.114757</td>\n",
       "      <td>2079.899736</td>\n",
       "      <td>1.510697e+04</td>\n",
       "      <td>1.494309</td>\n",
       "      <td>0.007542</td>\n",
       "      <td>0.234303</td>\n",
       "      <td>3.409430</td>\n",
       "      <td>7.656873</td>\n",
       "      <td>1788.390691</td>\n",
       "      <td>291.509045</td>\n",
       "      <td>1971.005136</td>\n",
       "      <td>84.402258</td>\n",
       "      <td>98077.939805</td>\n",
       "      <td>47.560053</td>\n",
       "      <td>-122.213896</td>\n",
       "      <td>1986.552492</td>\n",
       "      <td>12768.455652</td>\n",
       "    </tr>\n",
       "    <tr>\n",
       "      <th>std</th>\n",
       "      <td>2.876566e+09</td>\n",
       "      <td>3.671272e+05</td>\n",
       "      <td>0.930062</td>\n",
       "      <td>0.770163</td>\n",
       "      <td>918.440897</td>\n",
       "      <td>4.142051e+04</td>\n",
       "      <td>0.539989</td>\n",
       "      <td>0.086517</td>\n",
       "      <td>0.766318</td>\n",
       "      <td>0.650743</td>\n",
       "      <td>1.175459</td>\n",
       "      <td>828.090978</td>\n",
       "      <td>442.575043</td>\n",
       "      <td>29.373411</td>\n",
       "      <td>401.679240</td>\n",
       "      <td>53.505026</td>\n",
       "      <td>0.138564</td>\n",
       "      <td>0.140828</td>\n",
       "      <td>685.391304</td>\n",
       "      <td>27304.179631</td>\n",
       "    </tr>\n",
       "    <tr>\n",
       "      <th>min</th>\n",
       "      <td>1.000102e+06</td>\n",
       "      <td>7.500000e+04</td>\n",
       "      <td>0.000000</td>\n",
       "      <td>0.000000</td>\n",
       "      <td>290.000000</td>\n",
       "      <td>5.200000e+02</td>\n",
       "      <td>1.000000</td>\n",
       "      <td>0.000000</td>\n",
       "      <td>0.000000</td>\n",
       "      <td>1.000000</td>\n",
       "      <td>1.000000</td>\n",
       "      <td>290.000000</td>\n",
       "      <td>0.000000</td>\n",
       "      <td>1900.000000</td>\n",
       "      <td>0.000000</td>\n",
       "      <td>98001.000000</td>\n",
       "      <td>47.155900</td>\n",
       "      <td>-122.519000</td>\n",
       "      <td>399.000000</td>\n",
       "      <td>651.000000</td>\n",
       "    </tr>\n",
       "    <tr>\n",
       "      <th>25%</th>\n",
       "      <td>2.123049e+09</td>\n",
       "      <td>3.219500e+05</td>\n",
       "      <td>3.000000</td>\n",
       "      <td>1.750000</td>\n",
       "      <td>1427.000000</td>\n",
       "      <td>5.040000e+03</td>\n",
       "      <td>1.000000</td>\n",
       "      <td>0.000000</td>\n",
       "      <td>0.000000</td>\n",
       "      <td>3.000000</td>\n",
       "      <td>7.000000</td>\n",
       "      <td>1190.000000</td>\n",
       "      <td>0.000000</td>\n",
       "      <td>1951.000000</td>\n",
       "      <td>0.000000</td>\n",
       "      <td>98033.000000</td>\n",
       "      <td>47.471000</td>\n",
       "      <td>-122.328000</td>\n",
       "      <td>1490.000000</td>\n",
       "      <td>5100.000000</td>\n",
       "    </tr>\n",
       "    <tr>\n",
       "      <th>50%</th>\n",
       "      <td>3.904930e+09</td>\n",
       "      <td>4.500000e+05</td>\n",
       "      <td>3.000000</td>\n",
       "      <td>2.250000</td>\n",
       "      <td>1910.000000</td>\n",
       "      <td>7.618000e+03</td>\n",
       "      <td>1.500000</td>\n",
       "      <td>0.000000</td>\n",
       "      <td>0.000000</td>\n",
       "      <td>3.000000</td>\n",
       "      <td>7.000000</td>\n",
       "      <td>1560.000000</td>\n",
       "      <td>0.000000</td>\n",
       "      <td>1975.000000</td>\n",
       "      <td>0.000000</td>\n",
       "      <td>98065.000000</td>\n",
       "      <td>47.571800</td>\n",
       "      <td>-122.230000</td>\n",
       "      <td>1840.000000</td>\n",
       "      <td>7620.000000</td>\n",
       "    </tr>\n",
       "    <tr>\n",
       "      <th>75%</th>\n",
       "      <td>7.308900e+09</td>\n",
       "      <td>6.450000e+05</td>\n",
       "      <td>4.000000</td>\n",
       "      <td>2.500000</td>\n",
       "      <td>2550.000000</td>\n",
       "      <td>1.068800e+04</td>\n",
       "      <td>2.000000</td>\n",
       "      <td>0.000000</td>\n",
       "      <td>0.000000</td>\n",
       "      <td>4.000000</td>\n",
       "      <td>8.000000</td>\n",
       "      <td>2210.000000</td>\n",
       "      <td>560.000000</td>\n",
       "      <td>1997.000000</td>\n",
       "      <td>0.000000</td>\n",
       "      <td>98118.000000</td>\n",
       "      <td>47.678000</td>\n",
       "      <td>-122.125000</td>\n",
       "      <td>2360.000000</td>\n",
       "      <td>10083.000000</td>\n",
       "    </tr>\n",
       "    <tr>\n",
       "      <th>max</th>\n",
       "      <td>9.900000e+09</td>\n",
       "      <td>7.700000e+06</td>\n",
       "      <td>33.000000</td>\n",
       "      <td>8.000000</td>\n",
       "      <td>13540.000000</td>\n",
       "      <td>1.651359e+06</td>\n",
       "      <td>3.500000</td>\n",
       "      <td>1.000000</td>\n",
       "      <td>4.000000</td>\n",
       "      <td>5.000000</td>\n",
       "      <td>13.000000</td>\n",
       "      <td>9410.000000</td>\n",
       "      <td>4820.000000</td>\n",
       "      <td>2015.000000</td>\n",
       "      <td>2015.000000</td>\n",
       "      <td>98199.000000</td>\n",
       "      <td>47.777600</td>\n",
       "      <td>-121.315000</td>\n",
       "      <td>6210.000000</td>\n",
       "      <td>871200.000000</td>\n",
       "    </tr>\n",
       "  </tbody>\n",
       "</table>\n",
       "</div>"
      ],
      "text/plain": [
       "                 id         price      bedrooms     bathrooms   sqft_living  \\\n",
       "count  2.161300e+04  2.161300e+04  21613.000000  21613.000000  21613.000000   \n",
       "mean   4.580302e+09  5.400881e+05      3.370842      2.114757   2079.899736   \n",
       "std    2.876566e+09  3.671272e+05      0.930062      0.770163    918.440897   \n",
       "min    1.000102e+06  7.500000e+04      0.000000      0.000000    290.000000   \n",
       "25%    2.123049e+09  3.219500e+05      3.000000      1.750000   1427.000000   \n",
       "50%    3.904930e+09  4.500000e+05      3.000000      2.250000   1910.000000   \n",
       "75%    7.308900e+09  6.450000e+05      4.000000      2.500000   2550.000000   \n",
       "max    9.900000e+09  7.700000e+06     33.000000      8.000000  13540.000000   \n",
       "\n",
       "           sqft_lot        floors    waterfront          view     condition  \\\n",
       "count  2.161300e+04  21613.000000  21613.000000  21613.000000  21613.000000   \n",
       "mean   1.510697e+04      1.494309      0.007542      0.234303      3.409430   \n",
       "std    4.142051e+04      0.539989      0.086517      0.766318      0.650743   \n",
       "min    5.200000e+02      1.000000      0.000000      0.000000      1.000000   \n",
       "25%    5.040000e+03      1.000000      0.000000      0.000000      3.000000   \n",
       "50%    7.618000e+03      1.500000      0.000000      0.000000      3.000000   \n",
       "75%    1.068800e+04      2.000000      0.000000      0.000000      4.000000   \n",
       "max    1.651359e+06      3.500000      1.000000      4.000000      5.000000   \n",
       "\n",
       "              grade    sqft_above  sqft_basement      yr_built  yr_renovated  \\\n",
       "count  21613.000000  21613.000000   21613.000000  21613.000000  21613.000000   \n",
       "mean       7.656873   1788.390691     291.509045   1971.005136     84.402258   \n",
       "std        1.175459    828.090978     442.575043     29.373411    401.679240   \n",
       "min        1.000000    290.000000       0.000000   1900.000000      0.000000   \n",
       "25%        7.000000   1190.000000       0.000000   1951.000000      0.000000   \n",
       "50%        7.000000   1560.000000       0.000000   1975.000000      0.000000   \n",
       "75%        8.000000   2210.000000     560.000000   1997.000000      0.000000   \n",
       "max       13.000000   9410.000000    4820.000000   2015.000000   2015.000000   \n",
       "\n",
       "            zipcode           lat          long  sqft_living15     sqft_lot15  \n",
       "count  21613.000000  21613.000000  21613.000000   21613.000000   21613.000000  \n",
       "mean   98077.939805     47.560053   -122.213896    1986.552492   12768.455652  \n",
       "std       53.505026      0.138564      0.140828     685.391304   27304.179631  \n",
       "min    98001.000000     47.155900   -122.519000     399.000000     651.000000  \n",
       "25%    98033.000000     47.471000   -122.328000    1490.000000    5100.000000  \n",
       "50%    98065.000000     47.571800   -122.230000    1840.000000    7620.000000  \n",
       "75%    98118.000000     47.678000   -122.125000    2360.000000   10083.000000  \n",
       "max    98199.000000     47.777600   -121.315000    6210.000000  871200.000000  "
      ]
     },
     "execution_count": 5,
     "metadata": {},
     "output_type": "execute_result"
    }
   ],
   "source": [
    "df.describe()\n",
    "\n",
    "## from this describe table we can assume there's going to be outliers in some of the colum by looking from the median and max valaues in certain columns\n",
    "## the average house price in king county is around 540000 \n",
    "# the maximum house price in king county is 7.7 million which pretty far from the mean and median\n",
    "# there's house with no bedroom and house with no bath room which is kind of weird we will investigate this further\n"
   ]
  },
  {
   "cell_type": "markdown",
   "metadata": {},
   "source": [
    "### Outliers and handling missing / random value \n"
   ]
  },
  {
   "cell_type": "code",
   "execution_count": 6,
   "metadata": {},
   "outputs": [
    {
     "data": {
      "text/plain": [
       "id               0\n",
       "date             0\n",
       "price            0\n",
       "bedrooms         0\n",
       "bathrooms        0\n",
       "sqft_living      0\n",
       "sqft_lot         0\n",
       "floors           0\n",
       "waterfront       0\n",
       "view             0\n",
       "condition        0\n",
       "grade            0\n",
       "sqft_above       0\n",
       "sqft_basement    0\n",
       "yr_built         0\n",
       "yr_renovated     0\n",
       "zipcode          0\n",
       "lat              0\n",
       "long             0\n",
       "sqft_living15    0\n",
       "sqft_lot15       0\n",
       "dtype: int64"
      ]
     },
     "execution_count": 6,
     "metadata": {},
     "output_type": "execute_result"
    }
   ],
   "source": [
    "df.isna().sum()\n",
    "\n",
    "# since there is no missing value in the columns we will not dropping or filling missing value"
   ]
  },
  {
   "cell_type": "code",
   "execution_count": null,
   "metadata": {},
   "outputs": [],
   "source": []
  },
  {
   "cell_type": "code",
   "execution_count": 7,
   "metadata": {},
   "outputs": [
    {
     "data": {
      "text/plain": [
       "21"
      ]
     },
     "execution_count": 7,
     "metadata": {},
     "output_type": "execute_result"
    }
   ],
   "source": [
    "len(df.columns)"
   ]
  },
  {
   "cell_type": "code",
   "execution_count": 8,
   "metadata": {},
   "outputs": [
    {
     "data": {
      "image/png": "[encoded data removed]",
      "text/plain": [
       "<Figure size 1440x1440 with 19 Axes>"
      ]
     },
     "metadata": {
      "needs_background": "light"
     },
     "output_type": "display_data"
    }
   ],
   "source": [
    "# ploting boxplot for all the columns to see distribution of the data in each columns \n",
    "\n",
    "df_describe = df.drop(columns = ['id', 'date'])\n",
    "\n",
    "plt.figure(figsize =(20, 20 ))\n",
    "x = 1 \n",
    "\n",
    "for column in df_describe.columns:\n",
    "    plt.subplot(4,5,x)\n",
    "    sns.boxplot(df_describe[column])\n",
    "    x+=1\n",
    "plt.tight_layout\n",
    "plt.show()\n",
    "\n",
    "# from this box plot below we can see there are outliers in many of the columns and scaling will be useful to handle all the outliers \n",
    "# "
   ]
  },
  {
   "cell_type": "code",
   "execution_count": null,
   "metadata": {},
   "outputs": [],
   "source": []
  },
  {
   "cell_type": "code",
   "execution_count": 9,
   "metadata": {},
   "outputs": [
    {
     "data": {
      "text/html": [
       "<div>\n",
       "<style scoped>\n",
       "    .dataframe tbody tr th:only-of-type {\n",
       "        vertical-align: middle;\n",
       "    }\n",
       "\n",
       "    .dataframe tbody tr th {\n",
       "        vertical-align: top;\n",
       "    }\n",
       "\n",
       "    .dataframe thead th {\n",
       "        text-align: right;\n",
       "    }\n",
       "</style>\n",
       "<table border=\"1\" class=\"dataframe\">\n",
       "  <thead>\n",
       "    <tr style=\"text-align: right;\">\n",
       "      <th></th>\n",
       "      <th>id</th>\n",
       "      <th>date</th>\n",
       "      <th>price</th>\n",
       "      <th>bedrooms</th>\n",
       "      <th>bathrooms</th>\n",
       "      <th>sqft_living</th>\n",
       "      <th>sqft_lot</th>\n",
       "      <th>floors</th>\n",
       "      <th>waterfront</th>\n",
       "      <th>view</th>\n",
       "      <th>condition</th>\n",
       "      <th>grade</th>\n",
       "      <th>sqft_above</th>\n",
       "      <th>sqft_basement</th>\n",
       "      <th>yr_built</th>\n",
       "      <th>yr_renovated</th>\n",
       "      <th>zipcode</th>\n",
       "      <th>lat</th>\n",
       "      <th>long</th>\n",
       "      <th>sqft_living15</th>\n",
       "      <th>sqft_lot15</th>\n",
       "    </tr>\n",
       "  </thead>\n",
       "  <tbody>\n",
       "    <tr>\n",
       "      <th>875</th>\n",
       "      <td>6306400140</td>\n",
       "      <td>2014-06-12</td>\n",
       "      <td>1095000.0</td>\n",
       "      <td>0</td>\n",
       "      <td>0.00</td>\n",
       "      <td>3064</td>\n",
       "      <td>4764</td>\n",
       "      <td>3.5</td>\n",
       "      <td>0</td>\n",
       "      <td>2</td>\n",
       "      <td>3</td>\n",
       "      <td>7</td>\n",
       "      <td>3064</td>\n",
       "      <td>0</td>\n",
       "      <td>1990</td>\n",
       "      <td>0</td>\n",
       "      <td>98102</td>\n",
       "      <td>47.6362</td>\n",
       "      <td>-122.322</td>\n",
       "      <td>2360</td>\n",
       "      <td>4000</td>\n",
       "    </tr>\n",
       "    <tr>\n",
       "      <th>3119</th>\n",
       "      <td>3918400017</td>\n",
       "      <td>2015-02-05</td>\n",
       "      <td>380000.0</td>\n",
       "      <td>0</td>\n",
       "      <td>0.00</td>\n",
       "      <td>1470</td>\n",
       "      <td>979</td>\n",
       "      <td>3.0</td>\n",
       "      <td>0</td>\n",
       "      <td>2</td>\n",
       "      <td>3</td>\n",
       "      <td>8</td>\n",
       "      <td>1470</td>\n",
       "      <td>0</td>\n",
       "      <td>2006</td>\n",
       "      <td>0</td>\n",
       "      <td>98133</td>\n",
       "      <td>47.7145</td>\n",
       "      <td>-122.356</td>\n",
       "      <td>1470</td>\n",
       "      <td>1399</td>\n",
       "    </tr>\n",
       "    <tr>\n",
       "      <th>3467</th>\n",
       "      <td>1453602309</td>\n",
       "      <td>2014-08-05</td>\n",
       "      <td>288000.0</td>\n",
       "      <td>0</td>\n",
       "      <td>1.50</td>\n",
       "      <td>1430</td>\n",
       "      <td>1650</td>\n",
       "      <td>3.0</td>\n",
       "      <td>0</td>\n",
       "      <td>0</td>\n",
       "      <td>3</td>\n",
       "      <td>7</td>\n",
       "      <td>1430</td>\n",
       "      <td>0</td>\n",
       "      <td>1999</td>\n",
       "      <td>0</td>\n",
       "      <td>98125</td>\n",
       "      <td>47.7222</td>\n",
       "      <td>-122.290</td>\n",
       "      <td>1430</td>\n",
       "      <td>1650</td>\n",
       "    </tr>\n",
       "    <tr>\n",
       "      <th>4868</th>\n",
       "      <td>6896300380</td>\n",
       "      <td>2014-10-02</td>\n",
       "      <td>228000.0</td>\n",
       "      <td>0</td>\n",
       "      <td>1.00</td>\n",
       "      <td>390</td>\n",
       "      <td>5900</td>\n",
       "      <td>1.0</td>\n",
       "      <td>0</td>\n",
       "      <td>0</td>\n",
       "      <td>2</td>\n",
       "      <td>4</td>\n",
       "      <td>390</td>\n",
       "      <td>0</td>\n",
       "      <td>1953</td>\n",
       "      <td>0</td>\n",
       "      <td>98118</td>\n",
       "      <td>47.5260</td>\n",
       "      <td>-122.261</td>\n",
       "      <td>2170</td>\n",
       "      <td>6000</td>\n",
       "    </tr>\n",
       "    <tr>\n",
       "      <th>6994</th>\n",
       "      <td>2954400190</td>\n",
       "      <td>2014-06-24</td>\n",
       "      <td>1295650.0</td>\n",
       "      <td>0</td>\n",
       "      <td>0.00</td>\n",
       "      <td>4810</td>\n",
       "      <td>28008</td>\n",
       "      <td>2.0</td>\n",
       "      <td>0</td>\n",
       "      <td>0</td>\n",
       "      <td>3</td>\n",
       "      <td>12</td>\n",
       "      <td>4810</td>\n",
       "      <td>0</td>\n",
       "      <td>1990</td>\n",
       "      <td>0</td>\n",
       "      <td>98053</td>\n",
       "      <td>47.6642</td>\n",
       "      <td>-122.069</td>\n",
       "      <td>4740</td>\n",
       "      <td>35061</td>\n",
       "    </tr>\n",
       "    <tr>\n",
       "      <th>8477</th>\n",
       "      <td>2569500210</td>\n",
       "      <td>2014-11-17</td>\n",
       "      <td>339950.0</td>\n",
       "      <td>0</td>\n",
       "      <td>2.50</td>\n",
       "      <td>2290</td>\n",
       "      <td>8319</td>\n",
       "      <td>2.0</td>\n",
       "      <td>0</td>\n",
       "      <td>0</td>\n",
       "      <td>3</td>\n",
       "      <td>8</td>\n",
       "      <td>2290</td>\n",
       "      <td>0</td>\n",
       "      <td>1985</td>\n",
       "      <td>0</td>\n",
       "      <td>98042</td>\n",
       "      <td>47.3473</td>\n",
       "      <td>-122.151</td>\n",
       "      <td>2500</td>\n",
       "      <td>8751</td>\n",
       "    </tr>\n",
       "    <tr>\n",
       "      <th>8484</th>\n",
       "      <td>2310060040</td>\n",
       "      <td>2014-09-25</td>\n",
       "      <td>240000.0</td>\n",
       "      <td>0</td>\n",
       "      <td>2.50</td>\n",
       "      <td>1810</td>\n",
       "      <td>5669</td>\n",
       "      <td>2.0</td>\n",
       "      <td>0</td>\n",
       "      <td>0</td>\n",
       "      <td>3</td>\n",
       "      <td>7</td>\n",
       "      <td>1810</td>\n",
       "      <td>0</td>\n",
       "      <td>2003</td>\n",
       "      <td>0</td>\n",
       "      <td>98038</td>\n",
       "      <td>47.3493</td>\n",
       "      <td>-122.053</td>\n",
       "      <td>1810</td>\n",
       "      <td>5685</td>\n",
       "    </tr>\n",
       "    <tr>\n",
       "      <th>9773</th>\n",
       "      <td>3374500520</td>\n",
       "      <td>2015-04-29</td>\n",
       "      <td>355000.0</td>\n",
       "      <td>0</td>\n",
       "      <td>0.00</td>\n",
       "      <td>2460</td>\n",
       "      <td>8049</td>\n",
       "      <td>2.0</td>\n",
       "      <td>0</td>\n",
       "      <td>0</td>\n",
       "      <td>3</td>\n",
       "      <td>8</td>\n",
       "      <td>2460</td>\n",
       "      <td>0</td>\n",
       "      <td>1990</td>\n",
       "      <td>0</td>\n",
       "      <td>98031</td>\n",
       "      <td>47.4095</td>\n",
       "      <td>-122.168</td>\n",
       "      <td>2520</td>\n",
       "      <td>8050</td>\n",
       "    </tr>\n",
       "    <tr>\n",
       "      <th>9854</th>\n",
       "      <td>7849202190</td>\n",
       "      <td>2014-12-23</td>\n",
       "      <td>235000.0</td>\n",
       "      <td>0</td>\n",
       "      <td>0.00</td>\n",
       "      <td>1470</td>\n",
       "      <td>4800</td>\n",
       "      <td>2.0</td>\n",
       "      <td>0</td>\n",
       "      <td>0</td>\n",
       "      <td>3</td>\n",
       "      <td>7</td>\n",
       "      <td>1470</td>\n",
       "      <td>0</td>\n",
       "      <td>1996</td>\n",
       "      <td>0</td>\n",
       "      <td>98065</td>\n",
       "      <td>47.5265</td>\n",
       "      <td>-121.828</td>\n",
       "      <td>1060</td>\n",
       "      <td>7200</td>\n",
       "    </tr>\n",
       "    <tr>\n",
       "      <th>12653</th>\n",
       "      <td>7849202299</td>\n",
       "      <td>2015-02-18</td>\n",
       "      <td>320000.0</td>\n",
       "      <td>0</td>\n",
       "      <td>2.50</td>\n",
       "      <td>1490</td>\n",
       "      <td>7111</td>\n",
       "      <td>2.0</td>\n",
       "      <td>0</td>\n",
       "      <td>0</td>\n",
       "      <td>3</td>\n",
       "      <td>7</td>\n",
       "      <td>1490</td>\n",
       "      <td>0</td>\n",
       "      <td>1999</td>\n",
       "      <td>0</td>\n",
       "      <td>98065</td>\n",
       "      <td>47.5261</td>\n",
       "      <td>-121.826</td>\n",
       "      <td>1500</td>\n",
       "      <td>4675</td>\n",
       "    </tr>\n",
       "    <tr>\n",
       "      <th>14423</th>\n",
       "      <td>9543000205</td>\n",
       "      <td>2015-04-13</td>\n",
       "      <td>139950.0</td>\n",
       "      <td>0</td>\n",
       "      <td>0.00</td>\n",
       "      <td>844</td>\n",
       "      <td>4269</td>\n",
       "      <td>1.0</td>\n",
       "      <td>0</td>\n",
       "      <td>0</td>\n",
       "      <td>4</td>\n",
       "      <td>7</td>\n",
       "      <td>844</td>\n",
       "      <td>0</td>\n",
       "      <td>1913</td>\n",
       "      <td>0</td>\n",
       "      <td>98001</td>\n",
       "      <td>47.2781</td>\n",
       "      <td>-122.250</td>\n",
       "      <td>1380</td>\n",
       "      <td>9600</td>\n",
       "    </tr>\n",
       "    <tr>\n",
       "      <th>18379</th>\n",
       "      <td>1222029077</td>\n",
       "      <td>2014-10-29</td>\n",
       "      <td>265000.0</td>\n",
       "      <td>0</td>\n",
       "      <td>0.75</td>\n",
       "      <td>384</td>\n",
       "      <td>213444</td>\n",
       "      <td>1.0</td>\n",
       "      <td>0</td>\n",
       "      <td>0</td>\n",
       "      <td>3</td>\n",
       "      <td>4</td>\n",
       "      <td>384</td>\n",
       "      <td>0</td>\n",
       "      <td>2003</td>\n",
       "      <td>0</td>\n",
       "      <td>98070</td>\n",
       "      <td>47.4177</td>\n",
       "      <td>-122.491</td>\n",
       "      <td>1920</td>\n",
       "      <td>224341</td>\n",
       "    </tr>\n",
       "    <tr>\n",
       "      <th>19452</th>\n",
       "      <td>3980300371</td>\n",
       "      <td>2014-09-26</td>\n",
       "      <td>142000.0</td>\n",
       "      <td>0</td>\n",
       "      <td>0.00</td>\n",
       "      <td>290</td>\n",
       "      <td>20875</td>\n",
       "      <td>1.0</td>\n",
       "      <td>0</td>\n",
       "      <td>0</td>\n",
       "      <td>1</td>\n",
       "      <td>1</td>\n",
       "      <td>290</td>\n",
       "      <td>0</td>\n",
       "      <td>1963</td>\n",
       "      <td>0</td>\n",
       "      <td>98024</td>\n",
       "      <td>47.5308</td>\n",
       "      <td>-121.888</td>\n",
       "      <td>1620</td>\n",
       "      <td>22850</td>\n",
       "    </tr>\n",
       "  </tbody>\n",
       "</table>\n",
       "</div>"
      ],
      "text/plain": [
       "               id       date      price  bedrooms  bathrooms  sqft_living  \\\n",
       "875    6306400140 2014-06-12  1095000.0         0       0.00         3064   \n",
       "3119   3918400017 2015-02-05   380000.0         0       0.00         1470   \n",
       "3467   1453602309 2014-08-05   288000.0         0       1.50         1430   \n",
       "4868   6896300380 2014-10-02   228000.0         0       1.00          390   \n",
       "6994   2954400190 2014-06-24  1295650.0         0       0.00         4810   \n",
       "8477   2569500210 2014-11-17   339950.0         0       2.50         2290   \n",
       "8484   2310060040 2014-09-25   240000.0         0       2.50         1810   \n",
       "9773   3374500520 2015-04-29   355000.0         0       0.00         2460   \n",
       "9854   7849202190 2014-12-23   235000.0         0       0.00         1470   \n",
       "12653  7849202299 2015-02-18   320000.0         0       2.50         1490   \n",
       "14423  9543000205 2015-04-13   139950.0         0       0.00          844   \n",
       "18379  1222029077 2014-10-29   265000.0         0       0.75          384   \n",
       "19452  3980300371 2014-09-26   142000.0         0       0.00          290   \n",
       "\n",
       "       sqft_lot  floors  waterfront  view  condition  grade  sqft_above  \\\n",
       "875        4764     3.5           0     2          3      7        3064   \n",
       "3119        979     3.0           0     2          3      8        1470   \n",
       "3467       1650     3.0           0     0          3      7        1430   \n",
       "4868       5900     1.0           0     0          2      4         390   \n",
       "6994      28008     2.0           0     0          3     12        4810   \n",
       "8477       8319     2.0           0     0          3      8        2290   \n",
       "8484       5669     2.0           0     0          3      7        1810   \n",
       "9773       8049     2.0           0     0          3      8        2460   \n",
       "9854       4800     2.0           0     0          3      7        1470   \n",
       "12653      7111     2.0           0     0          3      7        1490   \n",
       "14423      4269     1.0           0     0          4      7         844   \n",
       "18379    213444     1.0           0     0          3      4         384   \n",
       "19452     20875     1.0           0     0          1      1         290   \n",
       "\n",
       "       sqft_basement  yr_built  yr_renovated  zipcode      lat     long  \\\n",
       "875                0      1990             0    98102  47.6362 -122.322   \n",
       "3119               0      2006             0    98133  47.7145 -122.356   \n",
       "3467               0      1999             0    98125  47.7222 -122.290   \n",
       "4868               0      1953             0    98118  47.5260 -122.261   \n",
       "6994               0      1990             0    98053  47.6642 -122.069   \n",
       "8477               0      1985             0    98042  47.3473 -122.151   \n",
       "8484               0      2003             0    98038  47.3493 -122.053   \n",
       "9773               0      1990             0    98031  47.4095 -122.168   \n",
       "9854               0      1996             0    98065  47.5265 -121.828   \n",
       "12653              0      1999             0    98065  47.5261 -121.826   \n",
       "14423              0      1913             0    98001  47.2781 -122.250   \n",
       "18379              0      2003             0    98070  47.4177 -122.491   \n",
       "19452              0      1963             0    98024  47.5308 -121.888   \n",
       "\n",
       "       sqft_living15  sqft_lot15  \n",
       "875             2360        4000  \n",
       "3119            1470        1399  \n",
       "3467            1430        1650  \n",
       "4868            2170        6000  \n",
       "6994            4740       35061  \n",
       "8477            2500        8751  \n",
       "8484            1810        5685  \n",
       "9773            2520        8050  \n",
       "9854            1060        7200  \n",
       "12653           1500        4675  \n",
       "14423           1380        9600  \n",
       "18379           1920      224341  \n",
       "19452           1620       22850  "
      ]
     },
     "execution_count": 9,
     "metadata": {},
     "output_type": "execute_result"
    }
   ],
   "source": [
    "### Checking the value that's unsual \n",
    "# bedroom and bathroom that's 0 \n",
    "\n",
    "df[df['bedrooms'] < 1]\n",
    "\n",
    "# there are rows that does not have bedrooms, which is kind of weird for a house\n",
    "# i will treat this like a null value and fill it with median numbers of bedroom in a house \n",
    "# same goes to the bathrooms with 0 values as well "
   ]
  },
  {
   "cell_type": "code",
   "execution_count": 10,
   "metadata": {},
   "outputs": [],
   "source": [
    "df['bedrooms'] = df['bedrooms'].replace(0, df['bedrooms'].median())\n",
    "df['bathrooms'] = df['bathrooms'].replace(0, df['bathrooms'].median())"
   ]
  },
  {
   "cell_type": "code",
   "execution_count": 11,
   "metadata": {},
   "outputs": [],
   "source": [
    "df[df['bedrooms'] < 1]\n",
    "\n",
    "df.to_csv('data_cleaned.csv')\n"
   ]
  },
  {
   "cell_type": "code",
   "execution_count": 12,
   "metadata": {},
   "outputs": [
    {
     "data": {
      "text/html": [
       "<div>\n",
       "<style scoped>\n",
       "    .dataframe tbody tr th:only-of-type {\n",
       "        vertical-align: middle;\n",
       "    }\n",
       "\n",
       "    .dataframe tbody tr th {\n",
       "        vertical-align: top;\n",
       "    }\n",
       "\n",
       "    .dataframe thead th {\n",
       "        text-align: right;\n",
       "    }\n",
       "</style>\n",
       "<table border=\"1\" class=\"dataframe\">\n",
       "  <thead>\n",
       "    <tr style=\"text-align: right;\">\n",
       "      <th></th>\n",
       "      <th>id</th>\n",
       "      <th>date</th>\n",
       "      <th>price</th>\n",
       "      <th>bedrooms</th>\n",
       "      <th>bathrooms</th>\n",
       "      <th>sqft_living</th>\n",
       "      <th>sqft_lot</th>\n",
       "      <th>floors</th>\n",
       "      <th>waterfront</th>\n",
       "      <th>view</th>\n",
       "      <th>condition</th>\n",
       "      <th>grade</th>\n",
       "      <th>sqft_above</th>\n",
       "      <th>sqft_basement</th>\n",
       "      <th>yr_built</th>\n",
       "      <th>yr_renovated</th>\n",
       "      <th>zipcode</th>\n",
       "      <th>lat</th>\n",
       "      <th>long</th>\n",
       "      <th>sqft_living15</th>\n",
       "      <th>sqft_lot15</th>\n",
       "    </tr>\n",
       "  </thead>\n",
       "  <tbody>\n",
       "  </tbody>\n",
       "</table>\n",
       "</div>"
      ],
      "text/plain": [
       "Empty DataFrame\n",
       "Columns: [id, date, price, bedrooms, bathrooms, sqft_living, sqft_lot, floors, waterfront, view, condition, grade, sqft_above, sqft_basement, yr_built, yr_renovated, zipcode, lat, long, sqft_living15, sqft_lot15]\n",
       "Index: []"
      ]
     },
     "execution_count": 12,
     "metadata": {},
     "output_type": "execute_result"
    }
   ],
   "source": [
    "df[df['bathrooms'] == 0]\n",
    "\n",
    "# now both of the bedrooms and bathrooms has no null value \n",
    "# the value was replaced with median not mean because there's outliers in both columns\n",
    "# there are some float values in the number of the bathrooms, and according to this\n",
    "# it's normal not to have a full bathroom size\n",
    "# - source :\n",
    "#  https://illinado.com/what-is-a-quarter-bath/#:~:text=Well%2C%20a%20quarter%20bath%20is,it%20only%20has%20a%20toilet."
   ]
  },
  {
   "cell_type": "code",
   "execution_count": 13,
   "metadata": {},
   "outputs": [
    {
     "data": {
      "text/plain": [
       "<matplotlib.axes._subplots.AxesSubplot at 0x2c1471f5160>"
      ]
     },
     "execution_count": 13,
     "metadata": {},
     "output_type": "execute_result"
    },
    {
     "data": {
      "image/png": "[encoded data removed]",
      "text/plain": [
       "<Figure size 1440x504 with 2 Axes>"
      ]
     },
     "metadata": {
      "needs_background": "light"
     },
     "output_type": "display_data"
    }
   ],
   "source": [
    "plt.figure(figsize = (20, 7) )\n",
    "\n",
    "sns.heatmap(df.corr(), annot = True, cmap = 'icefire')\n",
    "\n",
    "# so majority of  columns  has positve correlation with price columns except zipcode \n",
    "# correlation column to price correlation ordered by desc:\n",
    "#     - sqft_living"
   ]
  },
  {
   "cell_type": "markdown",
   "metadata": {},
   "source": [
    "so majority of  columns  has positve correlation with price columns except zipcode \n",
    "\n",
    "\n",
    "correlation column to price correlation ordered by desc:\n",
    "- sqft_living\n",
    "- grade\n",
    "- sqft_above\n",
    "- sqft_living15\n",
    "- bathrooms\n",
    "- bathrooms\n",
    "- view\n",
    "- sqft_basement\n",
    "- bedrooms\n",
    "- lat\n",
    "\n",
    "\n",
    "this column will be all the feature for machine learning since it has correlation above 0.3 to price"
   ]
  },
  {
   "cell_type": "code",
   "execution_count": 14,
   "metadata": {},
   "outputs": [
    {
     "data": {
      "text/plain": [
       "sqft_living      0.702035\n",
       "grade            0.667434\n",
       "sqft_above       0.605567\n",
       "sqft_living15    0.585379\n",
       "bathrooms        0.525714\n",
       "view             0.397293\n",
       "sqft_basement    0.323816\n",
       "bedrooms         0.308868\n",
       "lat              0.307003\n",
       "waterfront       0.266369\n",
       "floors           0.256794\n",
       "yr_renovated     0.126434\n",
       "sqft_lot         0.089661\n",
       "sqft_lot15       0.082447\n",
       "yr_built         0.054012\n",
       "condition        0.036362\n",
       "long             0.021626\n",
       "id              -0.016762\n",
       "zipcode         -0.053203\n",
       "Name: price, dtype: float64"
      ]
     },
     "execution_count": 14,
     "metadata": {},
     "output_type": "execute_result"
    }
   ],
   "source": [
    "correlation = df.corr()\n",
    "correlation['price'].sort_values(ascending = False)[1:]"
   ]
  },
  {
   "cell_type": "code",
   "execution_count": null,
   "metadata": {},
   "outputs": [],
   "source": []
  },
  {
   "cell_type": "code",
   "execution_count": 16,
   "metadata": {},
   "outputs": [],
   "source": [
    "X =df.drop(columns = ['id','price','date'])\n",
    "# y = np.log(df['price'])\n",
    "y = np.log(df['price'])"
   ]
  },
  {
   "cell_type": "markdown",
   "metadata": {},
   "source": [
    "## Model Building "
   ]
  },
  {
   "cell_type": "code",
   "execution_count": 17,
   "metadata": {},
   "outputs": [],
   "source": [
    "X_train, X_test, y_train, y_test = train_test_split(X,y , test_size = .2, random_state = 42)\n",
    "\n",
    "# train test split before the test "
   ]
  },
  {
   "cell_type": "markdown",
   "metadata": {},
   "source": [
    "# Base Model\n"
   ]
  },
  {
   "cell_type": "markdown",
   "metadata": {},
   "source": [
    "### Linear Regression"
   ]
  },
  {
   "cell_type": "code",
   "execution_count": 18,
   "metadata": {},
   "outputs": [],
   "source": [
    "linreg = LinearRegression()"
   ]
  },
  {
   "cell_type": "code",
   "execution_count": 19,
   "metadata": {},
   "outputs": [
    {
     "data": {
      "text/plain": [
       "LinearRegression()"
      ]
     },
     "execution_count": 19,
     "metadata": {},
     "output_type": "execute_result"
    }
   ],
   "source": [
    "linreg.fit(X_train, y_train)\n",
    "\n",
    "#model training "
   ]
  },
  {
   "cell_type": "code",
   "execution_count": 20,
   "metadata": {},
   "outputs": [
    {
     "data": {
      "text/plain": [
       "Index(['bedrooms', 'bathrooms', 'sqft_living', 'sqft_lot', 'floors',\n",
       "       'waterfront', 'view', 'condition', 'grade', 'sqft_above',\n",
       "       'sqft_basement', 'yr_built', 'yr_renovated', 'zipcode', 'lat', 'long',\n",
       "       'sqft_living15', 'sqft_lot15'],\n",
       "      dtype='object')"
      ]
     },
     "execution_count": 20,
     "metadata": {},
     "output_type": "execute_result"
    }
   ],
   "source": [
    "X.columns"
   ]
  },
  {
   "cell_type": "code",
   "execution_count": 21,
   "metadata": {},
   "outputs": [
    {
     "data": {
      "text/plain": [
       "array([-1.14093201e-02,  7.34842500e-02,  9.67608347e-05,  3.97250129e-07,\n",
       "        7.49285121e-02,  3.74443055e-01,  6.19963857e-02,  6.10387404e-02,\n",
       "        1.56644286e-01,  4.09769960e-05,  5.57838387e-05, -3.50796046e-03,\n",
       "        3.56857639e-05, -6.22468370e-04,  1.40163016e+00, -1.35945262e-01,\n",
       "        9.80299358e-05, -1.84270709e-07])"
      ]
     },
     "execution_count": 21,
     "metadata": {},
     "output_type": "execute_result"
    }
   ],
   "source": [
    "linreg.coef_"
   ]
  },
  {
   "cell_type": "code",
   "execution_count": 22,
   "metadata": {},
   "outputs": [],
   "source": [
    "y_pred =  linreg.predict(X_test)"
   ]
  },
  {
   "cell_type": "code",
   "execution_count": null,
   "metadata": {},
   "outputs": [],
   "source": []
  },
  {
   "cell_type": "code",
   "execution_count": 81,
   "metadata": {},
   "outputs": [],
   "source": [
    "linreg_train = linreg.score(X_train, y_train)"
   ]
  },
  {
   "cell_type": "code",
   "execution_count": 24,
   "metadata": {},
   "outputs": [
    {
     "data": {
      "text/plain": [
       "0.7710344819282888"
      ]
     },
     "execution_count": 24,
     "metadata": {},
     "output_type": "execute_result"
    }
   ],
   "source": [
    "linreg.score(X_test, y_test)"
   ]
  },
  {
   "cell_type": "code",
   "execution_count": 25,
   "metadata": {},
   "outputs": [],
   "source": [
    "r2_linreg = linreg.score(X_test, y_test)\n",
    "MAE_linreg = mean_absolute_error(y_test, y_pred)\n",
    "MSE_linreg = mean_squared_error(y_test, y_pred)\n",
    "RMSE_linreg = np.sqrt(MSE_linreg)"
   ]
  },
  {
   "cell_type": "code",
   "execution_count": 26,
   "metadata": {},
   "outputs": [
    {
     "name": "stdout",
     "output_type": "stream",
     "text": [
      "Hasil Evaluation Matrix LinReg : \n",
      "\n",
      "MAE: 0.19642970996388065\n",
      "MSE:0.06526250812737575\n",
      "RMSE : 0.25546527773334626\n",
      "R2 : 0.7710344819282888\n"
     ]
    }
   ],
   "source": [
    "print('Hasil Evaluation Matrix LinReg : ')\n",
    "print(\"\")\n",
    "print(f'MAE: {MAE_linreg}')\n",
    "print(f'MSE:{MSE_linreg}')\n",
    "print(f\"RMSE : {RMSE_linreg}\")\n",
    "print(f\"R2 : {r2_linreg}\")"
   ]
  },
  {
   "cell_type": "code",
   "execution_count": 27,
   "metadata": {},
   "outputs": [
    {
     "data": {
      "image/png": "[encoded data removed]",
      "text/plain": [
       "<Figure size 1440x720 with 1 Axes>"
      ]
     },
     "metadata": {
      "needs_background": "light"
     },
     "output_type": "display_data"
    }
   ],
   "source": [
    "plt.figure(figsize = (20, 10 ))\n",
    "plt.scatter(y_pred, y_test, color= 'darkgreen', alpha = 0.5)\n",
    "plt.xlabel('Prediction Price')\n",
    "plt.ylabel('Actual Price')\n",
    "plt.title('Linear Regression Scatter plot')\n",
    "\n",
    "plt.show()"
   ]
  },
  {
   "cell_type": "markdown",
   "metadata": {},
   "source": [
    "### Ridge Regression"
   ]
  },
  {
   "cell_type": "code",
   "execution_count": 28,
   "metadata": {},
   "outputs": [],
   "source": [
    "ridge = Ridge(alpha = 1)"
   ]
  },
  {
   "cell_type": "code",
   "execution_count": 29,
   "metadata": {},
   "outputs": [
    {
     "data": {
      "text/plain": [
       "Ridge(alpha=1)"
      ]
     },
     "execution_count": 29,
     "metadata": {},
     "output_type": "execute_result"
    }
   ],
   "source": [
    "ridge.fit(X_train, y_train)"
   ]
  },
  {
   "cell_type": "code",
   "execution_count": 30,
   "metadata": {},
   "outputs": [],
   "source": [
    "y_ridge_prediction = ridge.predict(X_test)"
   ]
  },
  {
   "cell_type": "code",
   "execution_count": 99,
   "metadata": {},
   "outputs": [],
   "source": [
    "ridge_train =  ridge.score(X_train, y_train)"
   ]
  },
  {
   "cell_type": "code",
   "execution_count": 32,
   "metadata": {},
   "outputs": [],
   "source": [
    "r2_ridge = ridge.score(X_test, y_test)\n",
    "MAE_ridge = mean_absolute_error(y_test, y_ridge_prediction)\n",
    "MSE_ridge = mean_squared_error(y_test, y_ridge_prediction)\n",
    "RMSE_ridge = np.sqrt(MSE_ridge)"
   ]
  },
  {
   "cell_type": "code",
   "execution_count": 33,
   "metadata": {},
   "outputs": [
    {
     "name": "stdout",
     "output_type": "stream",
     "text": [
      "Hasil Evaluation Matrix Ridge : \n",
      "\n",
      "MAE: 0.19642466799619984\n",
      "MSE:0.06526289053227832\n",
      "RMSE : 0.2554660261801524\n",
      "R2 : 0.7710331403075155\n"
     ]
    }
   ],
   "source": [
    "print('Hasil Evaluation Matrix Ridge : ')\n",
    "print(\"\")\n",
    "print(f'MAE: {MAE_ridge}')\n",
    "print(f'MSE:{MSE_ridge}')\n",
    "print(f\"RMSE : {RMSE_ridge}\")\n",
    "print(f\"R2 : {r2_ridge}\")"
   ]
  },
  {
   "cell_type": "markdown",
   "metadata": {},
   "source": [
    "### Lasso Regression "
   ]
  },
  {
   "cell_type": "code",
   "execution_count": 34,
   "metadata": {},
   "outputs": [],
   "source": [
    "lasso = Lasso()"
   ]
  },
  {
   "cell_type": "code",
   "execution_count": 35,
   "metadata": {},
   "outputs": [
    {
     "data": {
      "text/plain": [
       "Lasso()"
      ]
     },
     "execution_count": 35,
     "metadata": {},
     "output_type": "execute_result"
    }
   ],
   "source": [
    "lasso.fit(X_train, y_train)"
   ]
  },
  {
   "cell_type": "code",
   "execution_count": 36,
   "metadata": {},
   "outputs": [],
   "source": [
    "y_lasso_pred = lasso.predict(X_test)"
   ]
  },
  {
   "cell_type": "code",
   "execution_count": 104,
   "metadata": {},
   "outputs": [],
   "source": [
    "lasso_train =  lasso.score(X_train, y_train)"
   ]
  },
  {
   "cell_type": "code",
   "execution_count": 38,
   "metadata": {},
   "outputs": [],
   "source": [
    "r2_lasso = lasso.score(X_test, y_test)\n",
    "MAE_lasso = mean_absolute_error(y_test, y_lasso_pred)\n",
    "MSE_lasso = mean_squared_error(y_test, y_lasso_pred)\n",
    "RMSE_lasso = np.sqrt(MSE_lasso)"
   ]
  },
  {
   "cell_type": "code",
   "execution_count": 39,
   "metadata": {},
   "outputs": [
    {
     "name": "stdout",
     "output_type": "stream",
     "text": [
      "Hasil Evaluation Matrix Lasso : \n",
      "\n",
      "MAE: 0.2917027059839656\n",
      "MSE:0.12980087782293231\n",
      "RMSE : 0.3602788889498416\n",
      "R2 : 0.544609514870546\n"
     ]
    }
   ],
   "source": [
    "print('Hasil Evaluation Matrix Lasso : ')\n",
    "print(\"\")\n",
    "print(f'MAE: {MAE_lasso}')\n",
    "print(f'MSE:{MSE_lasso}')\n",
    "print(f\"RMSE : {RMSE_lasso}\")\n",
    "print(f\"R2 : {r2_lasso}\")"
   ]
  },
  {
   "cell_type": "markdown",
   "metadata": {},
   "source": [
    "### Random Forest Regressor"
   ]
  },
  {
   "cell_type": "code",
   "execution_count": 40,
   "metadata": {},
   "outputs": [],
   "source": [
    "RF = RandomForestRegressor()"
   ]
  },
  {
   "cell_type": "code",
   "execution_count": 41,
   "metadata": {},
   "outputs": [
    {
     "data": {
      "text/plain": [
       "RandomForestRegressor()"
      ]
     },
     "execution_count": 41,
     "metadata": {},
     "output_type": "execute_result"
    }
   ],
   "source": [
    "RF.fit(X_train, y_train)"
   ]
  },
  {
   "cell_type": "code",
   "execution_count": 42,
   "metadata": {},
   "outputs": [],
   "source": [
    "y_base_RF = RF.predict(X_test)"
   ]
  },
  {
   "cell_type": "code",
   "execution_count": 113,
   "metadata": {},
   "outputs": [],
   "source": [
    "RF_train =  RF.score(X_train,y_train)"
   ]
  },
  {
   "cell_type": "code",
   "execution_count": 44,
   "metadata": {},
   "outputs": [],
   "source": [
    "r2_RF = r2_score(y_test, y_base_RF)\n",
    "MAE_RF = mean_absolute_error(y_test, y_base_RF)\n",
    "MSE_RF = mean_squared_error(y_test, y_base_RF)\n",
    "RMSE_RF = np.sqrt(MSE_RF)"
   ]
  },
  {
   "cell_type": "code",
   "execution_count": 45,
   "metadata": {},
   "outputs": [
    {
     "name": "stdout",
     "output_type": "stream",
     "text": [
      "Hasil Evaluation Matrix Random Forest : \n",
      "\n",
      "MAE: 0.1258087507740151\n",
      "MSE:0.03144363920427145\n",
      "RMSE : 0.17732354385211077\n",
      "R2 : 0.8896838422695251\n"
     ]
    }
   ],
   "source": [
    "print('Hasil Evaluation Matrix Random Forest : ')\n",
    "print(\"\")\n",
    "print(f'MAE: {MAE_RF}')\n",
    "print(f'MSE:{MSE_RF}')\n",
    "print(f\"RMSE : {RMSE_RF}\")\n",
    "print(f\"R2 : {r2_RF}\")"
   ]
  },
  {
   "cell_type": "markdown",
   "metadata": {},
   "source": [
    "### Decision Tree Base Model"
   ]
  },
  {
   "cell_type": "code",
   "execution_count": 228,
   "metadata": {},
   "outputs": [],
   "source": [
    "base_DT = DecisionTreeRegressor()"
   ]
  },
  {
   "cell_type": "code",
   "execution_count": 229,
   "metadata": {},
   "outputs": [
    {
     "data": {
      "text/plain": [
       "DecisionTreeRegressor()"
      ]
     },
     "execution_count": 229,
     "metadata": {},
     "output_type": "execute_result"
    }
   ],
   "source": [
    "base_DT.fit(X_train, y_train)"
   ]
  },
  {
   "cell_type": "code",
   "execution_count": 231,
   "metadata": {},
   "outputs": [],
   "source": [
    "DT_train =  base_DT.score(X_train,y_train)"
   ]
  },
  {
   "cell_type": "code",
   "execution_count": 232,
   "metadata": {},
   "outputs": [],
   "source": [
    "y_base_DT = base_DT.predict(X_test)"
   ]
  },
  {
   "cell_type": "code",
   "execution_count": 234,
   "metadata": {},
   "outputs": [],
   "source": [
    "r2_base_DT =  r2_score(y_base_DT, y_test)\n",
    "MAE_DT = mean_absolute_error(y_test, y_base_DT)\n",
    "MSE_DT = mean_squared_error(y_test, y_base_DT)\n",
    "RMSE_DT = np.sqrt(MSE_DT)"
   ]
  },
  {
   "cell_type": "code",
   "execution_count": 235,
   "metadata": {},
   "outputs": [
    {
     "name": "stdout",
     "output_type": "stream",
     "text": [
      "Hasil Evaluation Matrix Decision Tree : \n",
      "\n",
      "MAE: 0.17825038913549582\n",
      "MSE:0.06271142181562804\n",
      "RMSE : 0.2504224866413319\n",
      "R2 : 0.7824636432639249\n"
     ]
    }
   ],
   "source": [
    "print('Hasil Evaluation Matrix Decision Tree : ')\n",
    "print(\"\")\n",
    "print(f'MAE: {MAE_DT}')\n",
    "print(f'MSE:{MSE_DT}')\n",
    "print(f\"RMSE : {RMSE_DT}\")\n",
    "print(f\"R2 : {r2_base_DT}\")"
   ]
  },
  {
   "cell_type": "markdown",
   "metadata": {},
   "source": [
    "### KNN"
   ]
  },
  {
   "cell_type": "code",
   "execution_count": 46,
   "metadata": {},
   "outputs": [],
   "source": [
    "knn = KNeighborsRegressor()"
   ]
  },
  {
   "cell_type": "code",
   "execution_count": 47,
   "metadata": {},
   "outputs": [
    {
     "data": {
      "text/plain": [
       "KNeighborsRegressor()"
      ]
     },
     "execution_count": 47,
     "metadata": {},
     "output_type": "execute_result"
    }
   ],
   "source": [
    "knn.fit(X_train, y_train)"
   ]
  },
  {
   "cell_type": "code",
   "execution_count": 48,
   "metadata": {},
   "outputs": [],
   "source": [
    "knn_predict = knn.predict(X_test)"
   ]
  },
  {
   "cell_type": "code",
   "execution_count": 108,
   "metadata": {},
   "outputs": [],
   "source": [
    "knn_train =  knn.score(X_train,y_train)"
   ]
  },
  {
   "cell_type": "code",
   "execution_count": 50,
   "metadata": {},
   "outputs": [],
   "source": [
    "r2_knn = r2_knn = r2_score(y_test, knn_predict)\n",
    "MAE_knn = mean_absolute_error(y_test, knn_predict)\n",
    "MSE_knn = mean_squared_error(y_test, knn_predict)\n",
    "RMSE_knn = np.sqrt(MSE_knn)"
   ]
  },
  {
   "cell_type": "code",
   "execution_count": 51,
   "metadata": {},
   "outputs": [
    {
     "name": "stdout",
     "output_type": "stream",
     "text": [
      "Hasil Evaluation Matrix KNearestNeighbors : \n",
      "\n",
      "MAE: 0.29344077907885924\n",
      "MSE:0.14143307497801885\n",
      "RMSE : 0.3760758899185361\n",
      "R2 : 0.5037993755677712\n"
     ]
    }
   ],
   "source": [
    "print('Hasil Evaluation Matrix KNearestNeighbors : ')\n",
    "print(\"\")\n",
    "print(f'MAE: {MAE_knn}')\n",
    "print(f'MSE:{MSE_knn}')\n",
    "print(f\"RMSE : {RMSE_knn}\")\n",
    "print(f\"R2 : {r2_knn}\")"
   ]
  },
  {
   "cell_type": "markdown",
   "metadata": {},
   "source": [
    "### Polynomial "
   ]
  },
  {
   "cell_type": "code",
   "execution_count": 52,
   "metadata": {},
   "outputs": [],
   "source": [
    "from sklearn.preprocessing import PolynomialFeatures"
   ]
  },
  {
   "cell_type": "code",
   "execution_count": 53,
   "metadata": {},
   "outputs": [],
   "source": [
    "X =df.drop(columns = ['id','date','price'])\n",
    "# y = np.log(df['price'])\n",
    "y = np.log(df['price'])"
   ]
  },
  {
   "cell_type": "code",
   "execution_count": 54,
   "metadata": {},
   "outputs": [],
   "source": [
    "poli_price = PolynomialFeatures(degree = 2, include_bias=False, interaction_only=True)\n",
    "poli_house_price = poli_price.fit_transform(X)"
   ]
  },
  {
   "cell_type": "code",
   "execution_count": 55,
   "metadata": {},
   "outputs": [],
   "source": [
    "poli_house_price = pd.DataFrame(data = poli_house_price, columns = np.arange(171))"
   ]
  },
  {
   "cell_type": "code",
   "execution_count": 56,
   "metadata": {},
   "outputs": [
    {
     "data": {
      "text/html": [
       "<div>\n",
       "<style scoped>\n",
       "    .dataframe tbody tr th:only-of-type {\n",
       "        vertical-align: middle;\n",
       "    }\n",
       "\n",
       "    .dataframe tbody tr th {\n",
       "        vertical-align: top;\n",
       "    }\n",
       "\n",
       "    .dataframe thead th {\n",
       "        text-align: right;\n",
       "    }\n",
       "</style>\n",
       "<table border=\"1\" class=\"dataframe\">\n",
       "  <thead>\n",
       "    <tr style=\"text-align: right;\">\n",
       "      <th></th>\n",
       "      <th>bedrooms</th>\n",
       "      <th>bathrooms</th>\n",
       "      <th>sqft_living</th>\n",
       "      <th>sqft_lot</th>\n",
       "      <th>floors</th>\n",
       "      <th>waterfront</th>\n",
       "      <th>view</th>\n",
       "      <th>condition</th>\n",
       "      <th>grade</th>\n",
       "      <th>sqft_above</th>\n",
       "      <th>sqft_basement</th>\n",
       "      <th>yr_built</th>\n",
       "      <th>yr_renovated</th>\n",
       "      <th>zipcode</th>\n",
       "      <th>lat</th>\n",
       "      <th>long</th>\n",
       "      <th>sqft_living15</th>\n",
       "      <th>sqft_lot15</th>\n",
       "      <th>0</th>\n",
       "      <th>1</th>\n",
       "      <th>2</th>\n",
       "      <th>3</th>\n",
       "      <th>4</th>\n",
       "      <th>5</th>\n",
       "      <th>6</th>\n",
       "      <th>7</th>\n",
       "      <th>8</th>\n",
       "      <th>9</th>\n",
       "      <th>10</th>\n",
       "      <th>11</th>\n",
       "      <th>12</th>\n",
       "      <th>13</th>\n",
       "      <th>14</th>\n",
       "      <th>15</th>\n",
       "      <th>16</th>\n",
       "      <th>17</th>\n",
       "      <th>18</th>\n",
       "      <th>19</th>\n",
       "      <th>20</th>\n",
       "      <th>21</th>\n",
       "      <th>22</th>\n",
       "      <th>23</th>\n",
       "      <th>24</th>\n",
       "      <th>25</th>\n",
       "      <th>26</th>\n",
       "      <th>27</th>\n",
       "      <th>28</th>\n",
       "      <th>29</th>\n",
       "      <th>30</th>\n",
       "      <th>31</th>\n",
       "      <th>32</th>\n",
       "      <th>33</th>\n",
       "      <th>34</th>\n",
       "      <th>35</th>\n",
       "      <th>36</th>\n",
       "      <th>37</th>\n",
       "      <th>38</th>\n",
       "      <th>39</th>\n",
       "      <th>40</th>\n",
       "      <th>41</th>\n",
       "      <th>42</th>\n",
       "      <th>43</th>\n",
       "      <th>44</th>\n",
       "      <th>45</th>\n",
       "      <th>46</th>\n",
       "      <th>47</th>\n",
       "      <th>48</th>\n",
       "      <th>49</th>\n",
       "      <th>50</th>\n",
       "      <th>51</th>\n",
       "      <th>52</th>\n",
       "      <th>53</th>\n",
       "      <th>54</th>\n",
       "      <th>55</th>\n",
       "      <th>56</th>\n",
       "      <th>57</th>\n",
       "      <th>58</th>\n",
       "      <th>59</th>\n",
       "      <th>60</th>\n",
       "      <th>61</th>\n",
       "      <th>62</th>\n",
       "      <th>63</th>\n",
       "      <th>64</th>\n",
       "      <th>65</th>\n",
       "      <th>66</th>\n",
       "      <th>67</th>\n",
       "      <th>68</th>\n",
       "      <th>69</th>\n",
       "      <th>70</th>\n",
       "      <th>71</th>\n",
       "      <th>72</th>\n",
       "      <th>73</th>\n",
       "      <th>74</th>\n",
       "      <th>75</th>\n",
       "      <th>76</th>\n",
       "      <th>77</th>\n",
       "      <th>78</th>\n",
       "      <th>79</th>\n",
       "      <th>80</th>\n",
       "      <th>81</th>\n",
       "      <th>82</th>\n",
       "      <th>83</th>\n",
       "      <th>84</th>\n",
       "      <th>85</th>\n",
       "      <th>86</th>\n",
       "      <th>87</th>\n",
       "      <th>88</th>\n",
       "      <th>89</th>\n",
       "      <th>90</th>\n",
       "      <th>91</th>\n",
       "      <th>92</th>\n",
       "      <th>93</th>\n",
       "      <th>94</th>\n",
       "      <th>95</th>\n",
       "      <th>96</th>\n",
       "      <th>97</th>\n",
       "      <th>98</th>\n",
       "      <th>99</th>\n",
       "      <th>100</th>\n",
       "      <th>101</th>\n",
       "      <th>102</th>\n",
       "      <th>103</th>\n",
       "      <th>104</th>\n",
       "      <th>105</th>\n",
       "      <th>106</th>\n",
       "      <th>107</th>\n",
       "      <th>108</th>\n",
       "      <th>109</th>\n",
       "      <th>110</th>\n",
       "      <th>111</th>\n",
       "      <th>112</th>\n",
       "      <th>113</th>\n",
       "      <th>114</th>\n",
       "      <th>115</th>\n",
       "      <th>116</th>\n",
       "      <th>117</th>\n",
       "      <th>118</th>\n",
       "      <th>119</th>\n",
       "      <th>120</th>\n",
       "      <th>121</th>\n",
       "      <th>122</th>\n",
       "      <th>123</th>\n",
       "      <th>124</th>\n",
       "      <th>125</th>\n",
       "      <th>126</th>\n",
       "      <th>127</th>\n",
       "      <th>128</th>\n",
       "      <th>129</th>\n",
       "      <th>130</th>\n",
       "      <th>131</th>\n",
       "      <th>132</th>\n",
       "      <th>133</th>\n",
       "      <th>134</th>\n",
       "      <th>135</th>\n",
       "      <th>136</th>\n",
       "      <th>137</th>\n",
       "      <th>138</th>\n",
       "      <th>139</th>\n",
       "      <th>140</th>\n",
       "      <th>141</th>\n",
       "      <th>142</th>\n",
       "      <th>143</th>\n",
       "      <th>144</th>\n",
       "      <th>145</th>\n",
       "      <th>146</th>\n",
       "      <th>147</th>\n",
       "      <th>148</th>\n",
       "      <th>149</th>\n",
       "      <th>150</th>\n",
       "      <th>151</th>\n",
       "      <th>152</th>\n",
       "      <th>153</th>\n",
       "      <th>154</th>\n",
       "      <th>155</th>\n",
       "      <th>156</th>\n",
       "      <th>157</th>\n",
       "      <th>158</th>\n",
       "      <th>159</th>\n",
       "      <th>160</th>\n",
       "      <th>161</th>\n",
       "      <th>162</th>\n",
       "      <th>163</th>\n",
       "      <th>164</th>\n",
       "      <th>165</th>\n",
       "      <th>166</th>\n",
       "      <th>167</th>\n",
       "      <th>168</th>\n",
       "      <th>169</th>\n",
       "      <th>170</th>\n",
       "    </tr>\n",
       "  </thead>\n",
       "  <tbody>\n",
       "    <tr>\n",
       "      <th>0</th>\n",
       "      <td>3</td>\n",
       "      <td>1.00</td>\n",
       "      <td>1180</td>\n",
       "      <td>5650</td>\n",
       "      <td>1.0</td>\n",
       "      <td>0</td>\n",
       "      <td>0</td>\n",
       "      <td>3</td>\n",
       "      <td>7</td>\n",
       "      <td>1180</td>\n",
       "      <td>0</td>\n",
       "      <td>1955</td>\n",
       "      <td>0</td>\n",
       "      <td>98178</td>\n",
       "      <td>47.5112</td>\n",
       "      <td>-122.257</td>\n",
       "      <td>1340</td>\n",
       "      <td>5650</td>\n",
       "      <td>3.0</td>\n",
       "      <td>1.00</td>\n",
       "      <td>1180.0</td>\n",
       "      <td>5650.0</td>\n",
       "      <td>1.0</td>\n",
       "      <td>0.0</td>\n",
       "      <td>0.0</td>\n",
       "      <td>3.0</td>\n",
       "      <td>7.0</td>\n",
       "      <td>1180.0</td>\n",
       "      <td>0.0</td>\n",
       "      <td>1955.0</td>\n",
       "      <td>0.0</td>\n",
       "      <td>98178.0</td>\n",
       "      <td>47.5112</td>\n",
       "      <td>-122.257</td>\n",
       "      <td>1340.0</td>\n",
       "      <td>5650.0</td>\n",
       "      <td>3.00</td>\n",
       "      <td>3540.0</td>\n",
       "      <td>16950.0</td>\n",
       "      <td>3.0</td>\n",
       "      <td>0.0</td>\n",
       "      <td>0.0</td>\n",
       "      <td>9.0</td>\n",
       "      <td>21.0</td>\n",
       "      <td>3540.0</td>\n",
       "      <td>0.0</td>\n",
       "      <td>5865.0</td>\n",
       "      <td>0.0</td>\n",
       "      <td>294534.0</td>\n",
       "      <td>142.5336</td>\n",
       "      <td>-366.771</td>\n",
       "      <td>4020.0</td>\n",
       "      <td>16950.0</td>\n",
       "      <td>1180.0</td>\n",
       "      <td>5650.0</td>\n",
       "      <td>1.0</td>\n",
       "      <td>0.0</td>\n",
       "      <td>0.0</td>\n",
       "      <td>3.00</td>\n",
       "      <td>7.00</td>\n",
       "      <td>1180.0</td>\n",
       "      <td>0.0</td>\n",
       "      <td>1955.00</td>\n",
       "      <td>0.00</td>\n",
       "      <td>98178.00</td>\n",
       "      <td>47.51120</td>\n",
       "      <td>-122.25700</td>\n",
       "      <td>1340.0</td>\n",
       "      <td>5650.00</td>\n",
       "      <td>6667000.0</td>\n",
       "      <td>1180.0</td>\n",
       "      <td>0.0</td>\n",
       "      <td>0.0</td>\n",
       "      <td>3540.0</td>\n",
       "      <td>8260.0</td>\n",
       "      <td>1392400.0</td>\n",
       "      <td>0.0</td>\n",
       "      <td>2306900.0</td>\n",
       "      <td>0.0</td>\n",
       "      <td>115850040.0</td>\n",
       "      <td>56063.216</td>\n",
       "      <td>-144263.26</td>\n",
       "      <td>1581200.0</td>\n",
       "      <td>6667000.0</td>\n",
       "      <td>5650.0</td>\n",
       "      <td>0.0</td>\n",
       "      <td>0.0</td>\n",
       "      <td>16950.0</td>\n",
       "      <td>39550.0</td>\n",
       "      <td>6667000.0</td>\n",
       "      <td>0.0</td>\n",
       "      <td>11045750.0</td>\n",
       "      <td>0.0</td>\n",
       "      <td>554705700.0</td>\n",
       "      <td>268438.280</td>\n",
       "      <td>-690752.050</td>\n",
       "      <td>7571000.0</td>\n",
       "      <td>31922500.0</td>\n",
       "      <td>0.0</td>\n",
       "      <td>0.0</td>\n",
       "      <td>3.0</td>\n",
       "      <td>7.0</td>\n",
       "      <td>1180.0</td>\n",
       "      <td>0.0</td>\n",
       "      <td>1955.0</td>\n",
       "      <td>0.0</td>\n",
       "      <td>98178.0</td>\n",
       "      <td>47.5112</td>\n",
       "      <td>-122.257</td>\n",
       "      <td>1340.0</td>\n",
       "      <td>5650.0</td>\n",
       "      <td>0.0</td>\n",
       "      <td>0.0</td>\n",
       "      <td>0.0</td>\n",
       "      <td>0.0</td>\n",
       "      <td>0.0</td>\n",
       "      <td>0.0</td>\n",
       "      <td>0.0</td>\n",
       "      <td>0.0</td>\n",
       "      <td>0.0</td>\n",
       "      <td>-0.0</td>\n",
       "      <td>0.0</td>\n",
       "      <td>0.0</td>\n",
       "      <td>0.0</td>\n",
       "      <td>0.0</td>\n",
       "      <td>0.0</td>\n",
       "      <td>0.0</td>\n",
       "      <td>0.0</td>\n",
       "      <td>0.0</td>\n",
       "      <td>0.0</td>\n",
       "      <td>0.0</td>\n",
       "      <td>-0.0</td>\n",
       "      <td>0.0</td>\n",
       "      <td>0.0</td>\n",
       "      <td>21.0</td>\n",
       "      <td>3540.0</td>\n",
       "      <td>0.0</td>\n",
       "      <td>5865.0</td>\n",
       "      <td>0.0</td>\n",
       "      <td>294534.0</td>\n",
       "      <td>142.5336</td>\n",
       "      <td>-366.771</td>\n",
       "      <td>4020.0</td>\n",
       "      <td>16950.0</td>\n",
       "      <td>8260.0</td>\n",
       "      <td>0.0</td>\n",
       "      <td>13685.0</td>\n",
       "      <td>0.0</td>\n",
       "      <td>687246.0</td>\n",
       "      <td>332.5784</td>\n",
       "      <td>-855.799</td>\n",
       "      <td>9380.0</td>\n",
       "      <td>39550.0</td>\n",
       "      <td>0.0</td>\n",
       "      <td>2306900.0</td>\n",
       "      <td>0.0</td>\n",
       "      <td>115850040.0</td>\n",
       "      <td>56063.216</td>\n",
       "      <td>-144263.26</td>\n",
       "      <td>1581200.0</td>\n",
       "      <td>6667000.0</td>\n",
       "      <td>0.0</td>\n",
       "      <td>0.0</td>\n",
       "      <td>0.0</td>\n",
       "      <td>0.000</td>\n",
       "      <td>-0.00</td>\n",
       "      <td>0.0</td>\n",
       "      <td>0.0</td>\n",
       "      <td>0.0</td>\n",
       "      <td>191937990.0</td>\n",
       "      <td>92884.3960</td>\n",
       "      <td>-239012.435</td>\n",
       "      <td>2619700.0</td>\n",
       "      <td>11045750.0</td>\n",
       "      <td>0.0</td>\n",
       "      <td>0.000</td>\n",
       "      <td>-0.000</td>\n",
       "      <td>0.0</td>\n",
       "      <td>0.0</td>\n",
       "      <td>4.664555e+06</td>\n",
       "      <td>-1.200295e+07</td>\n",
       "      <td>131558520.0</td>\n",
       "      <td>554705700.0</td>\n",
       "      <td>-5808.576778</td>\n",
       "      <td>63665.008</td>\n",
       "      <td>268438.2800</td>\n",
       "      <td>-163824.38</td>\n",
       "      <td>-690752.050</td>\n",
       "      <td>7571000.0</td>\n",
       "    </tr>\n",
       "    <tr>\n",
       "      <th>1</th>\n",
       "      <td>3</td>\n",
       "      <td>2.25</td>\n",
       "      <td>2570</td>\n",
       "      <td>7242</td>\n",
       "      <td>2.0</td>\n",
       "      <td>0</td>\n",
       "      <td>0</td>\n",
       "      <td>3</td>\n",
       "      <td>7</td>\n",
       "      <td>2170</td>\n",
       "      <td>400</td>\n",
       "      <td>1951</td>\n",
       "      <td>1991</td>\n",
       "      <td>98125</td>\n",
       "      <td>47.7210</td>\n",
       "      <td>-122.319</td>\n",
       "      <td>1690</td>\n",
       "      <td>7639</td>\n",
       "      <td>3.0</td>\n",
       "      <td>2.25</td>\n",
       "      <td>2570.0</td>\n",
       "      <td>7242.0</td>\n",
       "      <td>2.0</td>\n",
       "      <td>0.0</td>\n",
       "      <td>0.0</td>\n",
       "      <td>3.0</td>\n",
       "      <td>7.0</td>\n",
       "      <td>2170.0</td>\n",
       "      <td>400.0</td>\n",
       "      <td>1951.0</td>\n",
       "      <td>1991.0</td>\n",
       "      <td>98125.0</td>\n",
       "      <td>47.7210</td>\n",
       "      <td>-122.319</td>\n",
       "      <td>1690.0</td>\n",
       "      <td>7639.0</td>\n",
       "      <td>6.75</td>\n",
       "      <td>7710.0</td>\n",
       "      <td>21726.0</td>\n",
       "      <td>6.0</td>\n",
       "      <td>0.0</td>\n",
       "      <td>0.0</td>\n",
       "      <td>9.0</td>\n",
       "      <td>21.0</td>\n",
       "      <td>6510.0</td>\n",
       "      <td>1200.0</td>\n",
       "      <td>5853.0</td>\n",
       "      <td>5973.0</td>\n",
       "      <td>294375.0</td>\n",
       "      <td>143.1630</td>\n",
       "      <td>-366.957</td>\n",
       "      <td>5070.0</td>\n",
       "      <td>22917.0</td>\n",
       "      <td>5782.5</td>\n",
       "      <td>16294.5</td>\n",
       "      <td>4.5</td>\n",
       "      <td>0.0</td>\n",
       "      <td>0.0</td>\n",
       "      <td>6.75</td>\n",
       "      <td>15.75</td>\n",
       "      <td>4882.5</td>\n",
       "      <td>900.0</td>\n",
       "      <td>4389.75</td>\n",
       "      <td>4479.75</td>\n",
       "      <td>220781.25</td>\n",
       "      <td>107.37225</td>\n",
       "      <td>-275.21775</td>\n",
       "      <td>3802.5</td>\n",
       "      <td>17187.75</td>\n",
       "      <td>18611940.0</td>\n",
       "      <td>5140.0</td>\n",
       "      <td>0.0</td>\n",
       "      <td>0.0</td>\n",
       "      <td>7710.0</td>\n",
       "      <td>17990.0</td>\n",
       "      <td>5576900.0</td>\n",
       "      <td>1028000.0</td>\n",
       "      <td>5014070.0</td>\n",
       "      <td>5116870.0</td>\n",
       "      <td>252181250.0</td>\n",
       "      <td>122642.970</td>\n",
       "      <td>-314359.83</td>\n",
       "      <td>4343300.0</td>\n",
       "      <td>19632230.0</td>\n",
       "      <td>14484.0</td>\n",
       "      <td>0.0</td>\n",
       "      <td>0.0</td>\n",
       "      <td>21726.0</td>\n",
       "      <td>50694.0</td>\n",
       "      <td>15715140.0</td>\n",
       "      <td>2896800.0</td>\n",
       "      <td>14129142.0</td>\n",
       "      <td>14418822.0</td>\n",
       "      <td>710621250.0</td>\n",
       "      <td>345595.482</td>\n",
       "      <td>-885834.198</td>\n",
       "      <td>12238980.0</td>\n",
       "      <td>55321638.0</td>\n",
       "      <td>0.0</td>\n",
       "      <td>0.0</td>\n",
       "      <td>6.0</td>\n",
       "      <td>14.0</td>\n",
       "      <td>4340.0</td>\n",
       "      <td>800.0</td>\n",
       "      <td>3902.0</td>\n",
       "      <td>3982.0</td>\n",
       "      <td>196250.0</td>\n",
       "      <td>95.4420</td>\n",
       "      <td>-244.638</td>\n",
       "      <td>3380.0</td>\n",
       "      <td>15278.0</td>\n",
       "      <td>0.0</td>\n",
       "      <td>0.0</td>\n",
       "      <td>0.0</td>\n",
       "      <td>0.0</td>\n",
       "      <td>0.0</td>\n",
       "      <td>0.0</td>\n",
       "      <td>0.0</td>\n",
       "      <td>0.0</td>\n",
       "      <td>0.0</td>\n",
       "      <td>-0.0</td>\n",
       "      <td>0.0</td>\n",
       "      <td>0.0</td>\n",
       "      <td>0.0</td>\n",
       "      <td>0.0</td>\n",
       "      <td>0.0</td>\n",
       "      <td>0.0</td>\n",
       "      <td>0.0</td>\n",
       "      <td>0.0</td>\n",
       "      <td>0.0</td>\n",
       "      <td>0.0</td>\n",
       "      <td>-0.0</td>\n",
       "      <td>0.0</td>\n",
       "      <td>0.0</td>\n",
       "      <td>21.0</td>\n",
       "      <td>6510.0</td>\n",
       "      <td>1200.0</td>\n",
       "      <td>5853.0</td>\n",
       "      <td>5973.0</td>\n",
       "      <td>294375.0</td>\n",
       "      <td>143.1630</td>\n",
       "      <td>-366.957</td>\n",
       "      <td>5070.0</td>\n",
       "      <td>22917.0</td>\n",
       "      <td>15190.0</td>\n",
       "      <td>2800.0</td>\n",
       "      <td>13657.0</td>\n",
       "      <td>13937.0</td>\n",
       "      <td>686875.0</td>\n",
       "      <td>334.0470</td>\n",
       "      <td>-856.233</td>\n",
       "      <td>11830.0</td>\n",
       "      <td>53473.0</td>\n",
       "      <td>868000.0</td>\n",
       "      <td>4233670.0</td>\n",
       "      <td>4320470.0</td>\n",
       "      <td>212931250.0</td>\n",
       "      <td>103554.570</td>\n",
       "      <td>-265432.23</td>\n",
       "      <td>3667300.0</td>\n",
       "      <td>16576630.0</td>\n",
       "      <td>780400.0</td>\n",
       "      <td>796400.0</td>\n",
       "      <td>39250000.0</td>\n",
       "      <td>19088.400</td>\n",
       "      <td>-48927.60</td>\n",
       "      <td>676000.0</td>\n",
       "      <td>3055600.0</td>\n",
       "      <td>3884441.0</td>\n",
       "      <td>191441875.0</td>\n",
       "      <td>93103.6710</td>\n",
       "      <td>-238644.369</td>\n",
       "      <td>3297190.0</td>\n",
       "      <td>14903689.0</td>\n",
       "      <td>195366875.0</td>\n",
       "      <td>95012.511</td>\n",
       "      <td>-243537.129</td>\n",
       "      <td>3364790.0</td>\n",
       "      <td>15209249.0</td>\n",
       "      <td>4.682623e+06</td>\n",
       "      <td>-1.200255e+07</td>\n",
       "      <td>165831250.0</td>\n",
       "      <td>749576875.0</td>\n",
       "      <td>-5837.184999</td>\n",
       "      <td>80648.490</td>\n",
       "      <td>364540.7190</td>\n",
       "      <td>-206719.11</td>\n",
       "      <td>-934394.841</td>\n",
       "      <td>12909910.0</td>\n",
       "    </tr>\n",
       "    <tr>\n",
       "      <th>2</th>\n",
       "      <td>2</td>\n",
       "      <td>1.00</td>\n",
       "      <td>770</td>\n",
       "      <td>10000</td>\n",
       "      <td>1.0</td>\n",
       "      <td>0</td>\n",
       "      <td>0</td>\n",
       "      <td>3</td>\n",
       "      <td>6</td>\n",
       "      <td>770</td>\n",
       "      <td>0</td>\n",
       "      <td>1933</td>\n",
       "      <td>0</td>\n",
       "      <td>98028</td>\n",
       "      <td>47.7379</td>\n",
       "      <td>-122.233</td>\n",
       "      <td>2720</td>\n",
       "      <td>8062</td>\n",
       "      <td>2.0</td>\n",
       "      <td>1.00</td>\n",
       "      <td>770.0</td>\n",
       "      <td>10000.0</td>\n",
       "      <td>1.0</td>\n",
       "      <td>0.0</td>\n",
       "      <td>0.0</td>\n",
       "      <td>3.0</td>\n",
       "      <td>6.0</td>\n",
       "      <td>770.0</td>\n",
       "      <td>0.0</td>\n",
       "      <td>1933.0</td>\n",
       "      <td>0.0</td>\n",
       "      <td>98028.0</td>\n",
       "      <td>47.7379</td>\n",
       "      <td>-122.233</td>\n",
       "      <td>2720.0</td>\n",
       "      <td>8062.0</td>\n",
       "      <td>2.00</td>\n",
       "      <td>1540.0</td>\n",
       "      <td>20000.0</td>\n",
       "      <td>2.0</td>\n",
       "      <td>0.0</td>\n",
       "      <td>0.0</td>\n",
       "      <td>6.0</td>\n",
       "      <td>12.0</td>\n",
       "      <td>1540.0</td>\n",
       "      <td>0.0</td>\n",
       "      <td>3866.0</td>\n",
       "      <td>0.0</td>\n",
       "      <td>196056.0</td>\n",
       "      <td>95.4758</td>\n",
       "      <td>-244.466</td>\n",
       "      <td>5440.0</td>\n",
       "      <td>16124.0</td>\n",
       "      <td>770.0</td>\n",
       "      <td>10000.0</td>\n",
       "      <td>1.0</td>\n",
       "      <td>0.0</td>\n",
       "      <td>0.0</td>\n",
       "      <td>3.00</td>\n",
       "      <td>6.00</td>\n",
       "      <td>770.0</td>\n",
       "      <td>0.0</td>\n",
       "      <td>1933.00</td>\n",
       "      <td>0.00</td>\n",
       "      <td>98028.00</td>\n",
       "      <td>47.73790</td>\n",
       "      <td>-122.23300</td>\n",
       "      <td>2720.0</td>\n",
       "      <td>8062.00</td>\n",
       "      <td>7700000.0</td>\n",
       "      <td>770.0</td>\n",
       "      <td>0.0</td>\n",
       "      <td>0.0</td>\n",
       "      <td>2310.0</td>\n",
       "      <td>4620.0</td>\n",
       "      <td>592900.0</td>\n",
       "      <td>0.0</td>\n",
       "      <td>1488410.0</td>\n",
       "      <td>0.0</td>\n",
       "      <td>75481560.0</td>\n",
       "      <td>36758.183</td>\n",
       "      <td>-94119.41</td>\n",
       "      <td>2094400.0</td>\n",
       "      <td>6207740.0</td>\n",
       "      <td>10000.0</td>\n",
       "      <td>0.0</td>\n",
       "      <td>0.0</td>\n",
       "      <td>30000.0</td>\n",
       "      <td>60000.0</td>\n",
       "      <td>7700000.0</td>\n",
       "      <td>0.0</td>\n",
       "      <td>19330000.0</td>\n",
       "      <td>0.0</td>\n",
       "      <td>980280000.0</td>\n",
       "      <td>477379.000</td>\n",
       "      <td>-1222330.000</td>\n",
       "      <td>27200000.0</td>\n",
       "      <td>80620000.0</td>\n",
       "      <td>0.0</td>\n",
       "      <td>0.0</td>\n",
       "      <td>3.0</td>\n",
       "      <td>6.0</td>\n",
       "      <td>770.0</td>\n",
       "      <td>0.0</td>\n",
       "      <td>1933.0</td>\n",
       "      <td>0.0</td>\n",
       "      <td>98028.0</td>\n",
       "      <td>47.7379</td>\n",
       "      <td>-122.233</td>\n",
       "      <td>2720.0</td>\n",
       "      <td>8062.0</td>\n",
       "      <td>0.0</td>\n",
       "      <td>0.0</td>\n",
       "      <td>0.0</td>\n",
       "      <td>0.0</td>\n",
       "      <td>0.0</td>\n",
       "      <td>0.0</td>\n",
       "      <td>0.0</td>\n",
       "      <td>0.0</td>\n",
       "      <td>0.0</td>\n",
       "      <td>-0.0</td>\n",
       "      <td>0.0</td>\n",
       "      <td>0.0</td>\n",
       "      <td>0.0</td>\n",
       "      <td>0.0</td>\n",
       "      <td>0.0</td>\n",
       "      <td>0.0</td>\n",
       "      <td>0.0</td>\n",
       "      <td>0.0</td>\n",
       "      <td>0.0</td>\n",
       "      <td>0.0</td>\n",
       "      <td>-0.0</td>\n",
       "      <td>0.0</td>\n",
       "      <td>0.0</td>\n",
       "      <td>18.0</td>\n",
       "      <td>2310.0</td>\n",
       "      <td>0.0</td>\n",
       "      <td>5799.0</td>\n",
       "      <td>0.0</td>\n",
       "      <td>294084.0</td>\n",
       "      <td>143.2137</td>\n",
       "      <td>-366.699</td>\n",
       "      <td>8160.0</td>\n",
       "      <td>24186.0</td>\n",
       "      <td>4620.0</td>\n",
       "      <td>0.0</td>\n",
       "      <td>11598.0</td>\n",
       "      <td>0.0</td>\n",
       "      <td>588168.0</td>\n",
       "      <td>286.4274</td>\n",
       "      <td>-733.398</td>\n",
       "      <td>16320.0</td>\n",
       "      <td>48372.0</td>\n",
       "      <td>0.0</td>\n",
       "      <td>1488410.0</td>\n",
       "      <td>0.0</td>\n",
       "      <td>75481560.0</td>\n",
       "      <td>36758.183</td>\n",
       "      <td>-94119.41</td>\n",
       "      <td>2094400.0</td>\n",
       "      <td>6207740.0</td>\n",
       "      <td>0.0</td>\n",
       "      <td>0.0</td>\n",
       "      <td>0.0</td>\n",
       "      <td>0.000</td>\n",
       "      <td>-0.00</td>\n",
       "      <td>0.0</td>\n",
       "      <td>0.0</td>\n",
       "      <td>0.0</td>\n",
       "      <td>189488124.0</td>\n",
       "      <td>92277.3607</td>\n",
       "      <td>-236276.389</td>\n",
       "      <td>5257760.0</td>\n",
       "      <td>15583846.0</td>\n",
       "      <td>0.0</td>\n",
       "      <td>0.000</td>\n",
       "      <td>-0.000</td>\n",
       "      <td>0.0</td>\n",
       "      <td>0.0</td>\n",
       "      <td>4.679651e+06</td>\n",
       "      <td>-1.198226e+07</td>\n",
       "      <td>266636160.0</td>\n",
       "      <td>790301736.0</td>\n",
       "      <td>-5835.146731</td>\n",
       "      <td>129847.088</td>\n",
       "      <td>384862.9498</td>\n",
       "      <td>-332473.76</td>\n",
       "      <td>-985442.446</td>\n",
       "      <td>21928640.0</td>\n",
       "    </tr>\n",
       "    <tr>\n",
       "      <th>3</th>\n",
       "      <td>4</td>\n",
       "      <td>3.00</td>\n",
       "      <td>1960</td>\n",
       "      <td>5000</td>\n",
       "      <td>1.0</td>\n",
       "      <td>0</td>\n",
       "      <td>0</td>\n",
       "      <td>5</td>\n",
       "      <td>7</td>\n",
       "      <td>1050</td>\n",
       "      <td>910</td>\n",
       "      <td>1965</td>\n",
       "      <td>0</td>\n",
       "      <td>98136</td>\n",
       "      <td>47.5208</td>\n",
       "      <td>-122.393</td>\n",
       "      <td>1360</td>\n",
       "      <td>5000</td>\n",
       "      <td>4.0</td>\n",
       "      <td>3.00</td>\n",
       "      <td>1960.0</td>\n",
       "      <td>5000.0</td>\n",
       "      <td>1.0</td>\n",
       "      <td>0.0</td>\n",
       "      <td>0.0</td>\n",
       "      <td>5.0</td>\n",
       "      <td>7.0</td>\n",
       "      <td>1050.0</td>\n",
       "      <td>910.0</td>\n",
       "      <td>1965.0</td>\n",
       "      <td>0.0</td>\n",
       "      <td>98136.0</td>\n",
       "      <td>47.5208</td>\n",
       "      <td>-122.393</td>\n",
       "      <td>1360.0</td>\n",
       "      <td>5000.0</td>\n",
       "      <td>12.00</td>\n",
       "      <td>7840.0</td>\n",
       "      <td>20000.0</td>\n",
       "      <td>4.0</td>\n",
       "      <td>0.0</td>\n",
       "      <td>0.0</td>\n",
       "      <td>20.0</td>\n",
       "      <td>28.0</td>\n",
       "      <td>4200.0</td>\n",
       "      <td>3640.0</td>\n",
       "      <td>7860.0</td>\n",
       "      <td>0.0</td>\n",
       "      <td>392544.0</td>\n",
       "      <td>190.0832</td>\n",
       "      <td>-489.572</td>\n",
       "      <td>5440.0</td>\n",
       "      <td>20000.0</td>\n",
       "      <td>5880.0</td>\n",
       "      <td>15000.0</td>\n",
       "      <td>3.0</td>\n",
       "      <td>0.0</td>\n",
       "      <td>0.0</td>\n",
       "      <td>15.00</td>\n",
       "      <td>21.00</td>\n",
       "      <td>3150.0</td>\n",
       "      <td>2730.0</td>\n",
       "      <td>5895.00</td>\n",
       "      <td>0.00</td>\n",
       "      <td>294408.00</td>\n",
       "      <td>142.56240</td>\n",
       "      <td>-367.17900</td>\n",
       "      <td>4080.0</td>\n",
       "      <td>15000.00</td>\n",
       "      <td>9800000.0</td>\n",
       "      <td>1960.0</td>\n",
       "      <td>0.0</td>\n",
       "      <td>0.0</td>\n",
       "      <td>9800.0</td>\n",
       "      <td>13720.0</td>\n",
       "      <td>2058000.0</td>\n",
       "      <td>1783600.0</td>\n",
       "      <td>3851400.0</td>\n",
       "      <td>0.0</td>\n",
       "      <td>192346560.0</td>\n",
       "      <td>93140.768</td>\n",
       "      <td>-239890.28</td>\n",
       "      <td>2665600.0</td>\n",
       "      <td>9800000.0</td>\n",
       "      <td>5000.0</td>\n",
       "      <td>0.0</td>\n",
       "      <td>0.0</td>\n",
       "      <td>25000.0</td>\n",
       "      <td>35000.0</td>\n",
       "      <td>5250000.0</td>\n",
       "      <td>4550000.0</td>\n",
       "      <td>9825000.0</td>\n",
       "      <td>0.0</td>\n",
       "      <td>490680000.0</td>\n",
       "      <td>237604.000</td>\n",
       "      <td>-611965.000</td>\n",
       "      <td>6800000.0</td>\n",
       "      <td>25000000.0</td>\n",
       "      <td>0.0</td>\n",
       "      <td>0.0</td>\n",
       "      <td>5.0</td>\n",
       "      <td>7.0</td>\n",
       "      <td>1050.0</td>\n",
       "      <td>910.0</td>\n",
       "      <td>1965.0</td>\n",
       "      <td>0.0</td>\n",
       "      <td>98136.0</td>\n",
       "      <td>47.5208</td>\n",
       "      <td>-122.393</td>\n",
       "      <td>1360.0</td>\n",
       "      <td>5000.0</td>\n",
       "      <td>0.0</td>\n",
       "      <td>0.0</td>\n",
       "      <td>0.0</td>\n",
       "      <td>0.0</td>\n",
       "      <td>0.0</td>\n",
       "      <td>0.0</td>\n",
       "      <td>0.0</td>\n",
       "      <td>0.0</td>\n",
       "      <td>0.0</td>\n",
       "      <td>-0.0</td>\n",
       "      <td>0.0</td>\n",
       "      <td>0.0</td>\n",
       "      <td>0.0</td>\n",
       "      <td>0.0</td>\n",
       "      <td>0.0</td>\n",
       "      <td>0.0</td>\n",
       "      <td>0.0</td>\n",
       "      <td>0.0</td>\n",
       "      <td>0.0</td>\n",
       "      <td>0.0</td>\n",
       "      <td>-0.0</td>\n",
       "      <td>0.0</td>\n",
       "      <td>0.0</td>\n",
       "      <td>35.0</td>\n",
       "      <td>5250.0</td>\n",
       "      <td>4550.0</td>\n",
       "      <td>9825.0</td>\n",
       "      <td>0.0</td>\n",
       "      <td>490680.0</td>\n",
       "      <td>237.6040</td>\n",
       "      <td>-611.965</td>\n",
       "      <td>6800.0</td>\n",
       "      <td>25000.0</td>\n",
       "      <td>7350.0</td>\n",
       "      <td>6370.0</td>\n",
       "      <td>13755.0</td>\n",
       "      <td>0.0</td>\n",
       "      <td>686952.0</td>\n",
       "      <td>332.6456</td>\n",
       "      <td>-856.751</td>\n",
       "      <td>9520.0</td>\n",
       "      <td>35000.0</td>\n",
       "      <td>955500.0</td>\n",
       "      <td>2063250.0</td>\n",
       "      <td>0.0</td>\n",
       "      <td>103042800.0</td>\n",
       "      <td>49896.840</td>\n",
       "      <td>-128512.65</td>\n",
       "      <td>1428000.0</td>\n",
       "      <td>5250000.0</td>\n",
       "      <td>1788150.0</td>\n",
       "      <td>0.0</td>\n",
       "      <td>89303760.0</td>\n",
       "      <td>43243.928</td>\n",
       "      <td>-111377.63</td>\n",
       "      <td>1237600.0</td>\n",
       "      <td>4550000.0</td>\n",
       "      <td>0.0</td>\n",
       "      <td>192837240.0</td>\n",
       "      <td>93378.3720</td>\n",
       "      <td>-240502.245</td>\n",
       "      <td>2672400.0</td>\n",
       "      <td>9825000.0</td>\n",
       "      <td>0.0</td>\n",
       "      <td>0.000</td>\n",
       "      <td>-0.000</td>\n",
       "      <td>0.0</td>\n",
       "      <td>0.0</td>\n",
       "      <td>4.663501e+06</td>\n",
       "      <td>-1.201116e+07</td>\n",
       "      <td>133464960.0</td>\n",
       "      <td>490680000.0</td>\n",
       "      <td>-5816.213274</td>\n",
       "      <td>64628.288</td>\n",
       "      <td>237604.0000</td>\n",
       "      <td>-166454.48</td>\n",
       "      <td>-611965.000</td>\n",
       "      <td>6800000.0</td>\n",
       "    </tr>\n",
       "    <tr>\n",
       "      <th>4</th>\n",
       "      <td>3</td>\n",
       "      <td>2.00</td>\n",
       "      <td>1680</td>\n",
       "      <td>8080</td>\n",
       "      <td>1.0</td>\n",
       "      <td>0</td>\n",
       "      <td>0</td>\n",
       "      <td>3</td>\n",
       "      <td>8</td>\n",
       "      <td>1680</td>\n",
       "      <td>0</td>\n",
       "      <td>1987</td>\n",
       "      <td>0</td>\n",
       "      <td>98074</td>\n",
       "      <td>47.6168</td>\n",
       "      <td>-122.045</td>\n",
       "      <td>1800</td>\n",
       "      <td>7503</td>\n",
       "      <td>3.0</td>\n",
       "      <td>2.00</td>\n",
       "      <td>1680.0</td>\n",
       "      <td>8080.0</td>\n",
       "      <td>1.0</td>\n",
       "      <td>0.0</td>\n",
       "      <td>0.0</td>\n",
       "      <td>3.0</td>\n",
       "      <td>8.0</td>\n",
       "      <td>1680.0</td>\n",
       "      <td>0.0</td>\n",
       "      <td>1987.0</td>\n",
       "      <td>0.0</td>\n",
       "      <td>98074.0</td>\n",
       "      <td>47.6168</td>\n",
       "      <td>-122.045</td>\n",
       "      <td>1800.0</td>\n",
       "      <td>7503.0</td>\n",
       "      <td>6.00</td>\n",
       "      <td>5040.0</td>\n",
       "      <td>24240.0</td>\n",
       "      <td>3.0</td>\n",
       "      <td>0.0</td>\n",
       "      <td>0.0</td>\n",
       "      <td>9.0</td>\n",
       "      <td>24.0</td>\n",
       "      <td>5040.0</td>\n",
       "      <td>0.0</td>\n",
       "      <td>5961.0</td>\n",
       "      <td>0.0</td>\n",
       "      <td>294222.0</td>\n",
       "      <td>142.8504</td>\n",
       "      <td>-366.135</td>\n",
       "      <td>5400.0</td>\n",
       "      <td>22509.0</td>\n",
       "      <td>3360.0</td>\n",
       "      <td>16160.0</td>\n",
       "      <td>2.0</td>\n",
       "      <td>0.0</td>\n",
       "      <td>0.0</td>\n",
       "      <td>6.00</td>\n",
       "      <td>16.00</td>\n",
       "      <td>3360.0</td>\n",
       "      <td>0.0</td>\n",
       "      <td>3974.00</td>\n",
       "      <td>0.00</td>\n",
       "      <td>196148.00</td>\n",
       "      <td>95.23360</td>\n",
       "      <td>-244.09000</td>\n",
       "      <td>3600.0</td>\n",
       "      <td>15006.00</td>\n",
       "      <td>13574400.0</td>\n",
       "      <td>1680.0</td>\n",
       "      <td>0.0</td>\n",
       "      <td>0.0</td>\n",
       "      <td>5040.0</td>\n",
       "      <td>13440.0</td>\n",
       "      <td>2822400.0</td>\n",
       "      <td>0.0</td>\n",
       "      <td>3338160.0</td>\n",
       "      <td>0.0</td>\n",
       "      <td>164764320.0</td>\n",
       "      <td>79996.224</td>\n",
       "      <td>-205035.60</td>\n",
       "      <td>3024000.0</td>\n",
       "      <td>12605040.0</td>\n",
       "      <td>8080.0</td>\n",
       "      <td>0.0</td>\n",
       "      <td>0.0</td>\n",
       "      <td>24240.0</td>\n",
       "      <td>64640.0</td>\n",
       "      <td>13574400.0</td>\n",
       "      <td>0.0</td>\n",
       "      <td>16054960.0</td>\n",
       "      <td>0.0</td>\n",
       "      <td>792437920.0</td>\n",
       "      <td>384743.744</td>\n",
       "      <td>-986123.600</td>\n",
       "      <td>14544000.0</td>\n",
       "      <td>60624240.0</td>\n",
       "      <td>0.0</td>\n",
       "      <td>0.0</td>\n",
       "      <td>3.0</td>\n",
       "      <td>8.0</td>\n",
       "      <td>1680.0</td>\n",
       "      <td>0.0</td>\n",
       "      <td>1987.0</td>\n",
       "      <td>0.0</td>\n",
       "      <td>98074.0</td>\n",
       "      <td>47.6168</td>\n",
       "      <td>-122.045</td>\n",
       "      <td>1800.0</td>\n",
       "      <td>7503.0</td>\n",
       "      <td>0.0</td>\n",
       "      <td>0.0</td>\n",
       "      <td>0.0</td>\n",
       "      <td>0.0</td>\n",
       "      <td>0.0</td>\n",
       "      <td>0.0</td>\n",
       "      <td>0.0</td>\n",
       "      <td>0.0</td>\n",
       "      <td>0.0</td>\n",
       "      <td>-0.0</td>\n",
       "      <td>0.0</td>\n",
       "      <td>0.0</td>\n",
       "      <td>0.0</td>\n",
       "      <td>0.0</td>\n",
       "      <td>0.0</td>\n",
       "      <td>0.0</td>\n",
       "      <td>0.0</td>\n",
       "      <td>0.0</td>\n",
       "      <td>0.0</td>\n",
       "      <td>0.0</td>\n",
       "      <td>-0.0</td>\n",
       "      <td>0.0</td>\n",
       "      <td>0.0</td>\n",
       "      <td>24.0</td>\n",
       "      <td>5040.0</td>\n",
       "      <td>0.0</td>\n",
       "      <td>5961.0</td>\n",
       "      <td>0.0</td>\n",
       "      <td>294222.0</td>\n",
       "      <td>142.8504</td>\n",
       "      <td>-366.135</td>\n",
       "      <td>5400.0</td>\n",
       "      <td>22509.0</td>\n",
       "      <td>13440.0</td>\n",
       "      <td>0.0</td>\n",
       "      <td>15896.0</td>\n",
       "      <td>0.0</td>\n",
       "      <td>784592.0</td>\n",
       "      <td>380.9344</td>\n",
       "      <td>-976.360</td>\n",
       "      <td>14400.0</td>\n",
       "      <td>60024.0</td>\n",
       "      <td>0.0</td>\n",
       "      <td>3338160.0</td>\n",
       "      <td>0.0</td>\n",
       "      <td>164764320.0</td>\n",
       "      <td>79996.224</td>\n",
       "      <td>-205035.60</td>\n",
       "      <td>3024000.0</td>\n",
       "      <td>12605040.0</td>\n",
       "      <td>0.0</td>\n",
       "      <td>0.0</td>\n",
       "      <td>0.0</td>\n",
       "      <td>0.000</td>\n",
       "      <td>-0.00</td>\n",
       "      <td>0.0</td>\n",
       "      <td>0.0</td>\n",
       "      <td>0.0</td>\n",
       "      <td>194873038.0</td>\n",
       "      <td>94614.5816</td>\n",
       "      <td>-242503.415</td>\n",
       "      <td>3576600.0</td>\n",
       "      <td>14908461.0</td>\n",
       "      <td>0.0</td>\n",
       "      <td>0.000</td>\n",
       "      <td>-0.000</td>\n",
       "      <td>0.0</td>\n",
       "      <td>0.0</td>\n",
       "      <td>4.669970e+06</td>\n",
       "      <td>-1.196944e+07</td>\n",
       "      <td>176533200.0</td>\n",
       "      <td>735849222.0</td>\n",
       "      <td>-5811.392356</td>\n",
       "      <td>85710.240</td>\n",
       "      <td>357268.8504</td>\n",
       "      <td>-219681.00</td>\n",
       "      <td>-915703.635</td>\n",
       "      <td>13505400.0</td>\n",
       "    </tr>\n",
       "  </tbody>\n",
       "</table>\n",
       "</div>"
      ],
      "text/plain": [
       "   bedrooms  bathrooms  sqft_living  sqft_lot  floors  waterfront  view  \\\n",
       "0         3       1.00         1180      5650     1.0           0     0   \n",
       "1         3       2.25         2570      7242     2.0           0     0   \n",
       "2         2       1.00          770     10000     1.0           0     0   \n",
       "3         4       3.00         1960      5000     1.0           0     0   \n",
       "4         3       2.00         1680      8080     1.0           0     0   \n",
       "\n",
       "   condition  grade  sqft_above  sqft_basement  yr_built  yr_renovated  \\\n",
       "0          3      7        1180              0      1955             0   \n",
       "1          3      7        2170            400      1951          1991   \n",
       "2          3      6         770              0      1933             0   \n",
       "3          5      7        1050            910      1965             0   \n",
       "4          3      8        1680              0      1987             0   \n",
       "\n",
       "   zipcode      lat     long  sqft_living15  sqft_lot15    0     1       2  \\\n",
       "0    98178  47.5112 -122.257           1340        5650  3.0  1.00  1180.0   \n",
       "1    98125  47.7210 -122.319           1690        7639  3.0  2.25  2570.0   \n",
       "2    98028  47.7379 -122.233           2720        8062  2.0  1.00   770.0   \n",
       "3    98136  47.5208 -122.393           1360        5000  4.0  3.00  1960.0   \n",
       "4    98074  47.6168 -122.045           1800        7503  3.0  2.00  1680.0   \n",
       "\n",
       "         3    4    5    6    7    8       9     10      11      12       13  \\\n",
       "0   5650.0  1.0  0.0  0.0  3.0  7.0  1180.0    0.0  1955.0     0.0  98178.0   \n",
       "1   7242.0  2.0  0.0  0.0  3.0  7.0  2170.0  400.0  1951.0  1991.0  98125.0   \n",
       "2  10000.0  1.0  0.0  0.0  3.0  6.0   770.0    0.0  1933.0     0.0  98028.0   \n",
       "3   5000.0  1.0  0.0  0.0  5.0  7.0  1050.0  910.0  1965.0     0.0  98136.0   \n",
       "4   8080.0  1.0  0.0  0.0  3.0  8.0  1680.0    0.0  1987.0     0.0  98074.0   \n",
       "\n",
       "        14       15      16      17     18      19       20   21   22   23  \\\n",
       "0  47.5112 -122.257  1340.0  5650.0   3.00  3540.0  16950.0  3.0  0.0  0.0   \n",
       "1  47.7210 -122.319  1690.0  7639.0   6.75  7710.0  21726.0  6.0  0.0  0.0   \n",
       "2  47.7379 -122.233  2720.0  8062.0   2.00  1540.0  20000.0  2.0  0.0  0.0   \n",
       "3  47.5208 -122.393  1360.0  5000.0  12.00  7840.0  20000.0  4.0  0.0  0.0   \n",
       "4  47.6168 -122.045  1800.0  7503.0   6.00  5040.0  24240.0  3.0  0.0  0.0   \n",
       "\n",
       "     24    25      26      27      28      29        30        31       32  \\\n",
       "0   9.0  21.0  3540.0     0.0  5865.0     0.0  294534.0  142.5336 -366.771   \n",
       "1   9.0  21.0  6510.0  1200.0  5853.0  5973.0  294375.0  143.1630 -366.957   \n",
       "2   6.0  12.0  1540.0     0.0  3866.0     0.0  196056.0   95.4758 -244.466   \n",
       "3  20.0  28.0  4200.0  3640.0  7860.0     0.0  392544.0  190.0832 -489.572   \n",
       "4   9.0  24.0  5040.0     0.0  5961.0     0.0  294222.0  142.8504 -366.135   \n",
       "\n",
       "       33       34      35       36   37   38   39     40     41      42  \\\n",
       "0  4020.0  16950.0  1180.0   5650.0  1.0  0.0  0.0   3.00   7.00  1180.0   \n",
       "1  5070.0  22917.0  5782.5  16294.5  4.5  0.0  0.0   6.75  15.75  4882.5   \n",
       "2  5440.0  16124.0   770.0  10000.0  1.0  0.0  0.0   3.00   6.00   770.0   \n",
       "3  5440.0  20000.0  5880.0  15000.0  3.0  0.0  0.0  15.00  21.00  3150.0   \n",
       "4  5400.0  22509.0  3360.0  16160.0  2.0  0.0  0.0   6.00  16.00  3360.0   \n",
       "\n",
       "       43       44       45         46         47         48      49  \\\n",
       "0     0.0  1955.00     0.00   98178.00   47.51120 -122.25700  1340.0   \n",
       "1   900.0  4389.75  4479.75  220781.25  107.37225 -275.21775  3802.5   \n",
       "2     0.0  1933.00     0.00   98028.00   47.73790 -122.23300  2720.0   \n",
       "3  2730.0  5895.00     0.00  294408.00  142.56240 -367.17900  4080.0   \n",
       "4     0.0  3974.00     0.00  196148.00   95.23360 -244.09000  3600.0   \n",
       "\n",
       "         50          51      52   53   54      55       56         57  \\\n",
       "0   5650.00   6667000.0  1180.0  0.0  0.0  3540.0   8260.0  1392400.0   \n",
       "1  17187.75  18611940.0  5140.0  0.0  0.0  7710.0  17990.0  5576900.0   \n",
       "2   8062.00   7700000.0   770.0  0.0  0.0  2310.0   4620.0   592900.0   \n",
       "3  15000.00   9800000.0  1960.0  0.0  0.0  9800.0  13720.0  2058000.0   \n",
       "4  15006.00  13574400.0  1680.0  0.0  0.0  5040.0  13440.0  2822400.0   \n",
       "\n",
       "          58         59         60           61          62         63  \\\n",
       "0        0.0  2306900.0        0.0  115850040.0   56063.216 -144263.26   \n",
       "1  1028000.0  5014070.0  5116870.0  252181250.0  122642.970 -314359.83   \n",
       "2        0.0  1488410.0        0.0   75481560.0   36758.183  -94119.41   \n",
       "3  1783600.0  3851400.0        0.0  192346560.0   93140.768 -239890.28   \n",
       "4        0.0  3338160.0        0.0  164764320.0   79996.224 -205035.60   \n",
       "\n",
       "          64          65       66   67   68       69       70          71  \\\n",
       "0  1581200.0   6667000.0   5650.0  0.0  0.0  16950.0  39550.0   6667000.0   \n",
       "1  4343300.0  19632230.0  14484.0  0.0  0.0  21726.0  50694.0  15715140.0   \n",
       "2  2094400.0   6207740.0  10000.0  0.0  0.0  30000.0  60000.0   7700000.0   \n",
       "3  2665600.0   9800000.0   5000.0  0.0  0.0  25000.0  35000.0   5250000.0   \n",
       "4  3024000.0  12605040.0   8080.0  0.0  0.0  24240.0  64640.0  13574400.0   \n",
       "\n",
       "          72          73          74           75          76           77  \\\n",
       "0        0.0  11045750.0         0.0  554705700.0  268438.280  -690752.050   \n",
       "1  2896800.0  14129142.0  14418822.0  710621250.0  345595.482  -885834.198   \n",
       "2        0.0  19330000.0         0.0  980280000.0  477379.000 -1222330.000   \n",
       "3  4550000.0   9825000.0         0.0  490680000.0  237604.000  -611965.000   \n",
       "4        0.0  16054960.0         0.0  792437920.0  384743.744  -986123.600   \n",
       "\n",
       "           78          79   80   81   82    83      84     85      86      87  \\\n",
       "0   7571000.0  31922500.0  0.0  0.0  3.0   7.0  1180.0    0.0  1955.0     0.0   \n",
       "1  12238980.0  55321638.0  0.0  0.0  6.0  14.0  4340.0  800.0  3902.0  3982.0   \n",
       "2  27200000.0  80620000.0  0.0  0.0  3.0   6.0   770.0    0.0  1933.0     0.0   \n",
       "3   6800000.0  25000000.0  0.0  0.0  5.0   7.0  1050.0  910.0  1965.0     0.0   \n",
       "4  14544000.0  60624240.0  0.0  0.0  3.0   8.0  1680.0    0.0  1987.0     0.0   \n",
       "\n",
       "         88       89       90      91       92   93   94   95   96   97   98  \\\n",
       "0   98178.0  47.5112 -122.257  1340.0   5650.0  0.0  0.0  0.0  0.0  0.0  0.0   \n",
       "1  196250.0  95.4420 -244.638  3380.0  15278.0  0.0  0.0  0.0  0.0  0.0  0.0   \n",
       "2   98028.0  47.7379 -122.233  2720.0   8062.0  0.0  0.0  0.0  0.0  0.0  0.0   \n",
       "3   98136.0  47.5208 -122.393  1360.0   5000.0  0.0  0.0  0.0  0.0  0.0  0.0   \n",
       "4   98074.0  47.6168 -122.045  1800.0   7503.0  0.0  0.0  0.0  0.0  0.0  0.0   \n",
       "\n",
       "    99  100  101  102  103  104  105  106  107  108  109  110  111  112  113  \\\n",
       "0  0.0  0.0  0.0 -0.0  0.0  0.0  0.0  0.0  0.0  0.0  0.0  0.0  0.0  0.0 -0.0   \n",
       "1  0.0  0.0  0.0 -0.0  0.0  0.0  0.0  0.0  0.0  0.0  0.0  0.0  0.0  0.0 -0.0   \n",
       "2  0.0  0.0  0.0 -0.0  0.0  0.0  0.0  0.0  0.0  0.0  0.0  0.0  0.0  0.0 -0.0   \n",
       "3  0.0  0.0  0.0 -0.0  0.0  0.0  0.0  0.0  0.0  0.0  0.0  0.0  0.0  0.0 -0.0   \n",
       "4  0.0  0.0  0.0 -0.0  0.0  0.0  0.0  0.0  0.0  0.0  0.0  0.0  0.0  0.0 -0.0   \n",
       "\n",
       "   114  115   116     117     118     119     120       121       122  \\\n",
       "0  0.0  0.0  21.0  3540.0     0.0  5865.0     0.0  294534.0  142.5336   \n",
       "1  0.0  0.0  21.0  6510.0  1200.0  5853.0  5973.0  294375.0  143.1630   \n",
       "2  0.0  0.0  18.0  2310.0     0.0  5799.0     0.0  294084.0  143.2137   \n",
       "3  0.0  0.0  35.0  5250.0  4550.0  9825.0     0.0  490680.0  237.6040   \n",
       "4  0.0  0.0  24.0  5040.0     0.0  5961.0     0.0  294222.0  142.8504   \n",
       "\n",
       "       123     124      125      126     127      128      129       130  \\\n",
       "0 -366.771  4020.0  16950.0   8260.0     0.0  13685.0      0.0  687246.0   \n",
       "1 -366.957  5070.0  22917.0  15190.0  2800.0  13657.0  13937.0  686875.0   \n",
       "2 -366.699  8160.0  24186.0   4620.0     0.0  11598.0      0.0  588168.0   \n",
       "3 -611.965  6800.0  25000.0   7350.0  6370.0  13755.0      0.0  686952.0   \n",
       "4 -366.135  5400.0  22509.0  13440.0     0.0  15896.0      0.0  784592.0   \n",
       "\n",
       "        131      132      133      134       135        136        137  \\\n",
       "0  332.5784 -855.799   9380.0  39550.0       0.0  2306900.0        0.0   \n",
       "1  334.0470 -856.233  11830.0  53473.0  868000.0  4233670.0  4320470.0   \n",
       "2  286.4274 -733.398  16320.0  48372.0       0.0  1488410.0        0.0   \n",
       "3  332.6456 -856.751   9520.0  35000.0  955500.0  2063250.0        0.0   \n",
       "4  380.9344 -976.360  14400.0  60024.0       0.0  3338160.0        0.0   \n",
       "\n",
       "           138         139        140        141         142        143  \\\n",
       "0  115850040.0   56063.216 -144263.26  1581200.0   6667000.0        0.0   \n",
       "1  212931250.0  103554.570 -265432.23  3667300.0  16576630.0   780400.0   \n",
       "2   75481560.0   36758.183  -94119.41  2094400.0   6207740.0        0.0   \n",
       "3  103042800.0   49896.840 -128512.65  1428000.0   5250000.0  1788150.0   \n",
       "4  164764320.0   79996.224 -205035.60  3024000.0  12605040.0        0.0   \n",
       "\n",
       "        144         145        146        147        148        149  \\\n",
       "0       0.0         0.0      0.000      -0.00        0.0        0.0   \n",
       "1  796400.0  39250000.0  19088.400  -48927.60   676000.0  3055600.0   \n",
       "2       0.0         0.0      0.000      -0.00        0.0        0.0   \n",
       "3       0.0  89303760.0  43243.928 -111377.63  1237600.0  4550000.0   \n",
       "4       0.0         0.0      0.000      -0.00        0.0        0.0   \n",
       "\n",
       "         150          151         152         153        154         155  \\\n",
       "0        0.0  191937990.0  92884.3960 -239012.435  2619700.0  11045750.0   \n",
       "1  3884441.0  191441875.0  93103.6710 -238644.369  3297190.0  14903689.0   \n",
       "2        0.0  189488124.0  92277.3607 -236276.389  5257760.0  15583846.0   \n",
       "3        0.0  192837240.0  93378.3720 -240502.245  2672400.0   9825000.0   \n",
       "4        0.0  194873038.0  94614.5816 -242503.415  3576600.0  14908461.0   \n",
       "\n",
       "           156        157         158        159         160           161  \\\n",
       "0          0.0      0.000      -0.000        0.0         0.0  4.664555e+06   \n",
       "1  195366875.0  95012.511 -243537.129  3364790.0  15209249.0  4.682623e+06   \n",
       "2          0.0      0.000      -0.000        0.0         0.0  4.679651e+06   \n",
       "3          0.0      0.000      -0.000        0.0         0.0  4.663501e+06   \n",
       "4          0.0      0.000      -0.000        0.0         0.0  4.669970e+06   \n",
       "\n",
       "            162          163          164          165         166  \\\n",
       "0 -1.200295e+07  131558520.0  554705700.0 -5808.576778   63665.008   \n",
       "1 -1.200255e+07  165831250.0  749576875.0 -5837.184999   80648.490   \n",
       "2 -1.198226e+07  266636160.0  790301736.0 -5835.146731  129847.088   \n",
       "3 -1.201116e+07  133464960.0  490680000.0 -5816.213274   64628.288   \n",
       "4 -1.196944e+07  176533200.0  735849222.0 -5811.392356   85710.240   \n",
       "\n",
       "           167        168         169         170  \n",
       "0  268438.2800 -163824.38 -690752.050   7571000.0  \n",
       "1  364540.7190 -206719.11 -934394.841  12909910.0  \n",
       "2  384862.9498 -332473.76 -985442.446  21928640.0  \n",
       "3  237604.0000 -166454.48 -611965.000   6800000.0  \n",
       "4  357268.8504 -219681.00 -915703.635  13505400.0  "
      ]
     },
     "execution_count": 56,
     "metadata": {},
     "output_type": "execute_result"
    }
   ],
   "source": [
    "df_house_price_all = pd.concat([X,poli_house_price], axis = 1)\n",
    "df_house_price_all.head()"
   ]
  },
  {
   "cell_type": "code",
   "execution_count": 57,
   "metadata": {},
   "outputs": [],
   "source": [
    "### splitting polinomial_data\n",
    "\n",
    "X_train_poli, X_test_poli, y_train_poli, y_test_poli = train_test_split(df_house_price_all, y , test_size = 0.2, random_state = 42)"
   ]
  },
  {
   "cell_type": "code",
   "execution_count": 58,
   "metadata": {},
   "outputs": [],
   "source": [
    "linreg_poli = LinearRegression()"
   ]
  },
  {
   "cell_type": "code",
   "execution_count": 59,
   "metadata": {},
   "outputs": [
    {
     "data": {
      "text/plain": [
       "LinearRegression()"
      ]
     },
     "execution_count": 59,
     "metadata": {},
     "output_type": "execute_result"
    }
   ],
   "source": [
    "linreg_poli.fit(X_train_poli, y_train_poli)"
   ]
  },
  {
   "cell_type": "code",
   "execution_count": 60,
   "metadata": {},
   "outputs": [],
   "source": [
    "poli_test = linreg_poli.predict(X_test_poli)"
   ]
  },
  {
   "cell_type": "code",
   "execution_count": 121,
   "metadata": {},
   "outputs": [
    {
     "data": {
      "text/plain": [
       "0.8073577376985632"
      ]
     },
     "execution_count": 121,
     "metadata": {},
     "output_type": "execute_result"
    }
   ],
   "source": [
    "linreg_poli_train = linreg_poli.score(X_train_poli, y_train_poli)\n",
    "linreg_poli_train"
   ]
  },
  {
   "cell_type": "code",
   "execution_count": 61,
   "metadata": {},
   "outputs": [],
   "source": [
    "r2_poli =  linreg_poli.score(X_test_poli, y_test_poli)\n",
    "MAE_poli = mean_absolute_error(y_test_poli, poli_test)\n",
    "MSE_poli = mean_squared_error(y_test_poli, poli_test)\n",
    "RMSE_poli = np.sqrt(MSE_poli)"
   ]
  },
  {
   "cell_type": "code",
   "execution_count": 62,
   "metadata": {},
   "outputs": [
    {
     "name": "stdout",
     "output_type": "stream",
     "text": [
      "Hasil Evaluation Matrix Linreg poli degree 2 : \n",
      "\n",
      "MAE: 0.18354564036929202\n",
      "MSE:0.05822905829499\n",
      "RMSE : 0.24130697937479967\n",
      "R2 : 0.7957104793870514\n"
     ]
    }
   ],
   "source": [
    "print('Hasil Evaluation Matrix Linreg poli degree 2 : ')\n",
    "print(\"\")\n",
    "print(f'MAE: {MAE_poli}')\n",
    "print(f'MSE:{MSE_poli}')\n",
    "print(f\"RMSE : {RMSE_poli}\")\n",
    "print(f\"R2 : {r2_poli}\")"
   ]
  },
  {
   "cell_type": "markdown",
   "metadata": {},
   "source": [
    "### Ridge Regression Poly Degree 2\n"
   ]
  },
  {
   "cell_type": "code",
   "execution_count": 90,
   "metadata": {},
   "outputs": [],
   "source": [
    "ridge_poli = Ridge() "
   ]
  },
  {
   "cell_type": "code",
   "execution_count": 91,
   "metadata": {},
   "outputs": [
    {
     "data": {
      "text/plain": [
       "Ridge()"
      ]
     },
     "execution_count": 91,
     "metadata": {},
     "output_type": "execute_result"
    }
   ],
   "source": [
    "ridge_poli.fit(X_train_poli, y_train_poli)"
   ]
  },
  {
   "cell_type": "code",
   "execution_count": 92,
   "metadata": {},
   "outputs": [],
   "source": [
    "ridge_predict_poli = ridge_poli.predict(X_test_poli)"
   ]
  },
  {
   "cell_type": "code",
   "execution_count": 93,
   "metadata": {},
   "outputs": [],
   "source": [
    "ridge_r2_poli =  ridge_poli.score(X_test_poli, y_test_poli)\n",
    "ridge_MAE_poli = mean_absolute_error(y_test_poli, ridge_predict_poli)\n",
    "ridge_MSE_poli = mean_squared_error(y_test_poli, ridge_predict_poli)\n",
    "ridge_RMSE_poli = np.sqrt(ridge_MSE_poli)"
   ]
  },
  {
   "cell_type": "code",
   "execution_count": 126,
   "metadata": {},
   "outputs": [],
   "source": [
    "ridge_poli_train =  ridge_poli.score(X_train_poli, y_train_poli)"
   ]
  },
  {
   "cell_type": "code",
   "execution_count": 95,
   "metadata": {},
   "outputs": [
    {
     "name": "stdout",
     "output_type": "stream",
     "text": [
      "Hasil Evaluation Matrix Ridge poli degree 2 : \n",
      "\n",
      "MAE: 0.18428714269782775\n",
      "MSE:0.05884317175989099\n",
      "RMSE : 0.24257611539451074\n",
      "R2 : 0.7935559374964543\n"
     ]
    }
   ],
   "source": [
    "print('Hasil Evaluation Matrix Ridge poli degree 2 : ')\n",
    "print(\"\")\n",
    "print(f'MAE: {ridge_MAE_poli}')\n",
    "print(f'MSE:{ridge_MSE_poli}')\n",
    "print(f\"RMSE : {ridge_RMSE_poli}\")\n",
    "print(f\"R2 : {ridge_r2_poli}\")"
   ]
  },
  {
   "cell_type": "code",
   "execution_count": 237,
   "metadata": {},
   "outputs": [],
   "source": [
    "data = {'LinReg': [r2_linreg,MAE_linreg,MSE_linreg,RMSE_linreg],\n",
    "        'Linreg Train':[linreg_train, np.nan, np.nan, np.nan],\n",
    "       'Ridge':[r2_ridge, MAE_ridge, MSE_ridge, RMSE_ridge],\n",
    "        'Ridge Train':[ridge_train, np.nan, np.nan, np.nan],\n",
    "       'Lasso':[r2_lasso, MAE_lasso, MSE_lasso, RMSE_lasso],\n",
    "        'Lasso Train':[lasso_train, np.nan, np.nan, np.nan],\n",
    "        'KNN':[r2_knn, MAE_knn, MSE_knn, RMSE_knn],\n",
    "        'KNN_train':[knn_train, np.nan, np.nan, np.nan],\n",
    "        'Decision Tree':[r2_base_DT,MAE_DT,MSE_DT,RMSE_DT],\n",
    "        'Decision Tree_train':[DT_train, np.nan, np.nan, np.nan],\n",
    "        'Random_Forest':[r2_RF, MAE_RF, MSE_RF, RMSE_RF],\n",
    "        'Random_Forest_Train':[RF_train,np.nan,np.nan,np.nan],\n",
    "       'Linreg_poly2': [r2_poli,MAE_poli,MSE_poli,RMSE_poli],\n",
    "        'Linreg_poly2_train':[linreg_poli_train, np.nan, np.nan, np.nan],\n",
    "       'Ridge_poly2':[ridge_r2_poli,ridge_MAE_poli,ridge_MSE_poli,ridge_RMSE_poli],\n",
    "       'Ridge_poly2_train':[ridge_poli_train, np.nan, np.nan, np.nan]}"
   ]
  },
  {
   "cell_type": "markdown",
   "metadata": {},
   "source": [
    "## Base Model and Polynomial"
   ]
  },
  {
   "cell_type": "code",
   "execution_count": 238,
   "metadata": {},
   "outputs": [],
   "source": [
    "df_score =  pd.DataFrame(data = data, index = ['R2', 'MAE', 'MSE', 'RMSE'])"
   ]
  },
  {
   "cell_type": "code",
   "execution_count": 240,
   "metadata": {},
   "outputs": [
    {
     "data": {
      "text/html": [
       "<div>\n",
       "<style scoped>\n",
       "    .dataframe tbody tr th:only-of-type {\n",
       "        vertical-align: middle;\n",
       "    }\n",
       "\n",
       "    .dataframe tbody tr th {\n",
       "        vertical-align: top;\n",
       "    }\n",
       "\n",
       "    .dataframe thead th {\n",
       "        text-align: right;\n",
       "    }\n",
       "</style>\n",
       "<table border=\"1\" class=\"dataframe\">\n",
       "  <thead>\n",
       "    <tr style=\"text-align: right;\">\n",
       "      <th></th>\n",
       "      <th>LinReg</th>\n",
       "      <th>Linreg Train</th>\n",
       "      <th>Ridge</th>\n",
       "      <th>Ridge Train</th>\n",
       "      <th>Lasso</th>\n",
       "      <th>Lasso Train</th>\n",
       "      <th>KNN</th>\n",
       "      <th>KNN_train</th>\n",
       "      <th>Decision Tree</th>\n",
       "      <th>Decision Tree_train</th>\n",
       "      <th>Random_Forest</th>\n",
       "      <th>Random_Forest_Train</th>\n",
       "      <th>Linreg_poly2</th>\n",
       "      <th>Linreg_poly2_train</th>\n",
       "      <th>Ridge_poly2</th>\n",
       "      <th>Ridge_poly2_train</th>\n",
       "    </tr>\n",
       "  </thead>\n",
       "  <tbody>\n",
       "    <tr>\n",
       "      <th>R2</th>\n",
       "      <td>0.771034</td>\n",
       "      <td>0.770161</td>\n",
       "      <td>0.771033</td>\n",
       "      <td>0.770159</td>\n",
       "      <td>0.544610</td>\n",
       "      <td>0.536981</td>\n",
       "      <td>0.503799</td>\n",
       "      <td>0.674805</td>\n",
       "      <td>0.782464</td>\n",
       "      <td>0.996922</td>\n",
       "      <td>0.889684</td>\n",
       "      <td>0.981833</td>\n",
       "      <td>0.795710</td>\n",
       "      <td>0.807358</td>\n",
       "      <td>0.793556</td>\n",
       "      <td>0.804771</td>\n",
       "    </tr>\n",
       "    <tr>\n",
       "      <th>MAE</th>\n",
       "      <td>0.196430</td>\n",
       "      <td>NaN</td>\n",
       "      <td>0.196425</td>\n",
       "      <td>NaN</td>\n",
       "      <td>0.291703</td>\n",
       "      <td>NaN</td>\n",
       "      <td>0.293441</td>\n",
       "      <td>NaN</td>\n",
       "      <td>0.178250</td>\n",
       "      <td>NaN</td>\n",
       "      <td>0.125809</td>\n",
       "      <td>NaN</td>\n",
       "      <td>0.183546</td>\n",
       "      <td>NaN</td>\n",
       "      <td>0.184287</td>\n",
       "      <td>NaN</td>\n",
       "    </tr>\n",
       "    <tr>\n",
       "      <th>MSE</th>\n",
       "      <td>0.065263</td>\n",
       "      <td>NaN</td>\n",
       "      <td>0.065263</td>\n",
       "      <td>NaN</td>\n",
       "      <td>0.129801</td>\n",
       "      <td>NaN</td>\n",
       "      <td>0.141433</td>\n",
       "      <td>NaN</td>\n",
       "      <td>0.062711</td>\n",
       "      <td>NaN</td>\n",
       "      <td>0.031444</td>\n",
       "      <td>NaN</td>\n",
       "      <td>0.058229</td>\n",
       "      <td>NaN</td>\n",
       "      <td>0.058843</td>\n",
       "      <td>NaN</td>\n",
       "    </tr>\n",
       "    <tr>\n",
       "      <th>RMSE</th>\n",
       "      <td>0.255465</td>\n",
       "      <td>NaN</td>\n",
       "      <td>0.255466</td>\n",
       "      <td>NaN</td>\n",
       "      <td>0.360279</td>\n",
       "      <td>NaN</td>\n",
       "      <td>0.376076</td>\n",
       "      <td>NaN</td>\n",
       "      <td>0.250422</td>\n",
       "      <td>NaN</td>\n",
       "      <td>0.177324</td>\n",
       "      <td>NaN</td>\n",
       "      <td>0.241307</td>\n",
       "      <td>NaN</td>\n",
       "      <td>0.242576</td>\n",
       "      <td>NaN</td>\n",
       "    </tr>\n",
       "  </tbody>\n",
       "</table>\n",
       "</div>"
      ],
      "text/plain": [
       "        LinReg  Linreg Train     Ridge  Ridge Train     Lasso  Lasso Train  \\\n",
       "R2    0.771034      0.770161  0.771033     0.770159  0.544610     0.536981   \n",
       "MAE   0.196430           NaN  0.196425          NaN  0.291703          NaN   \n",
       "MSE   0.065263           NaN  0.065263          NaN  0.129801          NaN   \n",
       "RMSE  0.255465           NaN  0.255466          NaN  0.360279          NaN   \n",
       "\n",
       "           KNN  KNN_train  Decision Tree  Decision Tree_train  Random_Forest  \\\n",
       "R2    0.503799   0.674805       0.782464             0.996922       0.889684   \n",
       "MAE   0.293441        NaN       0.178250                  NaN       0.125809   \n",
       "MSE   0.141433        NaN       0.062711                  NaN       0.031444   \n",
       "RMSE  0.376076        NaN       0.250422                  NaN       0.177324   \n",
       "\n",
       "      Random_Forest_Train  Linreg_poly2  Linreg_poly2_train  Ridge_poly2  \\\n",
       "R2               0.981833      0.795710            0.807358     0.793556   \n",
       "MAE                   NaN      0.183546                 NaN     0.184287   \n",
       "MSE                   NaN      0.058229                 NaN     0.058843   \n",
       "RMSE                  NaN      0.241307                 NaN     0.242576   \n",
       "\n",
       "      Ridge_poly2_train  \n",
       "R2             0.804771  \n",
       "MAE                 NaN  \n",
       "MSE                 NaN  \n",
       "RMSE                NaN  "
      ]
     },
     "execution_count": 240,
     "metadata": {},
     "output_type": "execute_result"
    }
   ],
   "source": [
    "df_score\n",
    "\n",
    "# The overall model seems to be in the sweet spot except for Random forest, Decision Tree, and KNN model are overfitting \n",
    "# we are going to Tune this in hyper parameter tuning "
   ]
  },
  {
   "cell_type": "markdown",
   "metadata": {},
   "source": [
    "## Hyper Parameter Tuning"
   ]
  },
  {
   "cell_type": "markdown",
   "metadata": {},
   "source": [
    "#### Linreg Hyper Parameter Tuning"
   ]
  },
  {
   "cell_type": "code",
   "execution_count": 138,
   "metadata": {},
   "outputs": [],
   "source": [
    "X =df.drop(columns = ['id','price','date'])\n",
    "# y = np.log(df['price'])\n",
    "y = np.log(df['price'])"
   ]
  },
  {
   "cell_type": "code",
   "execution_count": 139,
   "metadata": {},
   "outputs": [],
   "source": [
    "X_train, X_test, y_train, y_test = train_test_split(X,y , test_size = .2, random_state = 42)\n",
    "\n",
    "# train test split before the test "
   ]
  },
  {
   "cell_type": "code",
   "execution_count": 140,
   "metadata": {},
   "outputs": [],
   "source": [
    "Linreg_tuned = LinearRegression()\n",
    "param_linreg = {'fit_intercept':[True, False],\n",
    "               'normalize':[False, True],\n",
    "               'copy_X':[True, False]\n",
    "               }"
   ]
  },
  {
   "cell_type": "code",
   "execution_count": 141,
   "metadata": {},
   "outputs": [],
   "source": [
    "model_linreg_tuned = GridSearchCV(estimator = Linreg_tuned, param_grid=param_linreg, n_jobs = -1, cv=5, verbose =1)"
   ]
  },
  {
   "cell_type": "code",
   "execution_count": 142,
   "metadata": {},
   "outputs": [
    {
     "name": "stdout",
     "output_type": "stream",
     "text": [
      "Fitting 5 folds for each of 8 candidates, totalling 40 fits\n"
     ]
    },
    {
     "name": "stderr",
     "output_type": "stream",
     "text": [
      "[Parallel(n_jobs=-1)]: Using backend LokyBackend with 8 concurrent workers.\n",
      "[Parallel(n_jobs=-1)]: Done  25 out of  40 | elapsed:    0.3s remaining:    0.1s\n",
      "[Parallel(n_jobs=-1)]: Done  40 out of  40 | elapsed:    0.4s finished\n"
     ]
    },
    {
     "data": {
      "text/plain": [
       "GridSearchCV(cv=5, estimator=LinearRegression(), n_jobs=-1,\n",
       "             param_grid={'copy_X': [True, False],\n",
       "                         'fit_intercept': [True, False],\n",
       "                         'normalize': [False, True]},\n",
       "             verbose=1)"
      ]
     },
     "execution_count": 142,
     "metadata": {},
     "output_type": "execute_result"
    }
   ],
   "source": [
    "model_linreg_tuned.fit(X_train, y_train)"
   ]
  },
  {
   "cell_type": "code",
   "execution_count": 143,
   "metadata": {},
   "outputs": [
    {
     "data": {
      "text/plain": [
       "{'copy_X': True, 'fit_intercept': False, 'normalize': False}"
      ]
     },
     "execution_count": 143,
     "metadata": {},
     "output_type": "execute_result"
    }
   ],
   "source": [
    "model_linreg_tuned.best_params_"
   ]
  },
  {
   "cell_type": "code",
   "execution_count": 148,
   "metadata": {},
   "outputs": [
    {
     "data": {
      "text/plain": [
       "0.7692234048461326"
      ]
     },
     "execution_count": 148,
     "metadata": {},
     "output_type": "execute_result"
    }
   ],
   "source": [
    "linreg_tuned_train =  model_linreg_tuned.best_score_\n",
    "linreg_tuned_train"
   ]
  },
  {
   "cell_type": "code",
   "execution_count": 145,
   "metadata": {},
   "outputs": [],
   "source": [
    "linreg_tuned = model_linreg_tuned.best_estimator_"
   ]
  },
  {
   "cell_type": "code",
   "execution_count": 146,
   "metadata": {},
   "outputs": [],
   "source": [
    "y_linreg_tuned =  linreg_tuned.predict(X_test)"
   ]
  },
  {
   "cell_type": "code",
   "execution_count": 150,
   "metadata": {},
   "outputs": [],
   "source": [
    "linreg_r2_tuned = r2_score(y_test, y_linreg_tuned)\n",
    "MAE_linreg_tuned = mean_absolute_error(y_test, y_linreg_tuned)\n",
    "MSE_linreg_tuned = mean_squared_error(y_test, y_linreg_tuned)\n",
    "RMSE_linreg_tuned = np.sqrt(MSE_linreg_tuned)"
   ]
  },
  {
   "cell_type": "markdown",
   "metadata": {},
   "source": [
    "#### Ridge Hyper Parameter Tuning"
   ]
  },
  {
   "cell_type": "code",
   "execution_count": 169,
   "metadata": {},
   "outputs": [],
   "source": [
    "ridge_tuning = Ridge()\n",
    "param_ridge = {'alpha':[1,0.5,0.1, 5, 15, 30, 60],\n",
    "               'fit_intercept':[True, False],\n",
    "              'normalize': [False, True],\n",
    "              'copy_X':[True, False],\n",
    "              'max_iter':[None, 10, 100, 1000],\n",
    "              'tol':[0.001, 0.005, 0.01]}"
   ]
  },
  {
   "cell_type": "code",
   "execution_count": 170,
   "metadata": {},
   "outputs": [],
   "source": [
    "model_ridge_tuned = GridSearchCV(estimator = ridge_tuning, param_grid=param_ridge, n_jobs = -1, cv=5, verbose =1)"
   ]
  },
  {
   "cell_type": "code",
   "execution_count": 171,
   "metadata": {},
   "outputs": [
    {
     "name": "stdout",
     "output_type": "stream",
     "text": [
      "Fitting 5 folds for each of 672 candidates, totalling 3360 fits\n"
     ]
    },
    {
     "name": "stderr",
     "output_type": "stream",
     "text": [
      "[Parallel(n_jobs=-1)]: Using backend LokyBackend with 8 concurrent workers.\n",
      "[Parallel(n_jobs=-1)]: Done  56 tasks      | elapsed:    0.5s\n",
      "[Parallel(n_jobs=-1)]: Done 656 tasks      | elapsed:    3.7s\n",
      "[Parallel(n_jobs=-1)]: Done 1656 tasks      | elapsed:    8.8s\n",
      "[Parallel(n_jobs=-1)]: Done 3056 tasks      | elapsed:   16.0s\n",
      "[Parallel(n_jobs=-1)]: Done 3360 out of 3360 | elapsed:   17.4s finished\n"
     ]
    },
    {
     "data": {
      "text/plain": [
       "GridSearchCV(cv=5, estimator=Ridge(), n_jobs=-1,\n",
       "             param_grid={'alpha': [1, 0.5, 0.1, 5, 15, 30, 60],\n",
       "                         'copy_X': [True, False],\n",
       "                         'fit_intercept': [True, False],\n",
       "                         'max_iter': [None, 10, 100, 1000],\n",
       "                         'normalize': [False, True],\n",
       "                         'tol': [0.001, 0.005, 0.01]},\n",
       "             verbose=1)"
      ]
     },
     "execution_count": 171,
     "metadata": {},
     "output_type": "execute_result"
    }
   ],
   "source": [
    "model_ridge_tuned.fit(X_train, y_train)"
   ]
  },
  {
   "cell_type": "code",
   "execution_count": 192,
   "metadata": {},
   "outputs": [
    {
     "data": {
      "text/plain": [
       "0.7692235136512398"
      ]
     },
     "execution_count": 192,
     "metadata": {},
     "output_type": "execute_result"
    }
   ],
   "source": [
    "ridge_tuned_train = model_ridge_tuned.best_score_\n",
    "ridge_tuned_train"
   ]
  },
  {
   "cell_type": "code",
   "execution_count": 175,
   "metadata": {},
   "outputs": [],
   "source": [
    "ridge_tuned = model_ridge_tuned.best_estimator_"
   ]
  },
  {
   "cell_type": "code",
   "execution_count": 195,
   "metadata": {},
   "outputs": [
    {
     "data": {
      "text/plain": [
       "{'alpha': 0.1,\n",
       " 'copy_X': True,\n",
       " 'fit_intercept': False,\n",
       " 'max_iter': None,\n",
       " 'normalize': False,\n",
       " 'tol': 0.001}"
      ]
     },
     "execution_count": 195,
     "metadata": {},
     "output_type": "execute_result"
    }
   ],
   "source": [
    "model_ridge_tuned.best_params_"
   ]
  },
  {
   "cell_type": "code",
   "execution_count": 176,
   "metadata": {},
   "outputs": [],
   "source": [
    "y_ridge_tuned =  ridge_tuned.predict(X_test)"
   ]
  },
  {
   "cell_type": "code",
   "execution_count": 202,
   "metadata": {},
   "outputs": [
    {
     "data": {
      "text/plain": [
       "0.7709933572232526"
      ]
     },
     "execution_count": 202,
     "metadata": {},
     "output_type": "execute_result"
    }
   ],
   "source": [
    "r2_tuned_ridge = r2_score(y_test, y_ridge_tuned)\n",
    "MAE_ridge_tuned = mean_absolute_error(y_test, y_ridge_tuned)\n",
    "MSE_ridge_tuned = mean_squared_error(y_test, y_ridge_tuned)\n",
    "RMSE_ridge_tuned = np.sqrt(MSE_ridge_tuned)\n",
    "r2_tuned_ridge"
   ]
  },
  {
   "cell_type": "markdown",
   "metadata": {},
   "source": [
    "#### Lasso Hyperparameter Tuning"
   ]
  },
  {
   "cell_type": "code",
   "execution_count": 207,
   "metadata": {},
   "outputs": [],
   "source": [
    "lasso_tuning = Lasso()\n",
    "param_lasso = {'alpha':[1,0.5,0.1, 5, 15, 30, 60],\n",
    "               'fit_intercept':[True, False],\n",
    "              'normalize': [False, True],\n",
    "              'copy_X':[True, False],\n",
    "              'max_iter':[1000, 2000, 5000],\n",
    "              'tol':[0.0001, 0.005, 0.01]\n",
    "              }"
   ]
  },
  {
   "cell_type": "code",
   "execution_count": 208,
   "metadata": {},
   "outputs": [],
   "source": [
    "model_lasso_tuned = GridSearchCV(estimator = lasso_tuning, param_grid=param_lasso, n_jobs = -1, cv=5, verbose =1)"
   ]
  },
  {
   "cell_type": "code",
   "execution_count": 209,
   "metadata": {},
   "outputs": [
    {
     "name": "stdout",
     "output_type": "stream",
     "text": [
      "Fitting 5 folds for each of 504 candidates, totalling 2520 fits\n"
     ]
    },
    {
     "name": "stderr",
     "output_type": "stream",
     "text": [
      "[Parallel(n_jobs=-1)]: Using backend LokyBackend with 8 concurrent workers.\n",
      "[Parallel(n_jobs=-1)]: Done  34 tasks      | elapsed:    2.3s\n",
      "[Parallel(n_jobs=-1)]: Done 284 tasks      | elapsed:   14.4s\n",
      "[Parallel(n_jobs=-1)]: Done 581 tasks      | elapsed:   34.8s\n",
      "[Parallel(n_jobs=-1)]: Done 936 tasks      | elapsed:  1.0min\n",
      "[Parallel(n_jobs=-1)]: Done 1604 tasks      | elapsed:  1.6min\n",
      "[Parallel(n_jobs=-1)]: Done 2520 out of 2520 | elapsed:  1.9min finished\n"
     ]
    },
    {
     "data": {
      "text/plain": [
       "GridSearchCV(cv=5, estimator=Lasso(), n_jobs=-1,\n",
       "             param_grid={'alpha': [1, 0.5, 0.1, 5, 15, 30, 60],\n",
       "                         'copy_X': [True, False],\n",
       "                         'fit_intercept': [True, False],\n",
       "                         'max_iter': [1000, 2000, 5000],\n",
       "                         'normalize': [False, True],\n",
       "                         'tol': [0.0001, 0.005, 0.01]},\n",
       "             verbose=1)"
      ]
     },
     "execution_count": 209,
     "metadata": {},
     "output_type": "execute_result"
    }
   ],
   "source": [
    "model_lasso_tuned.fit(X_train, y_train)"
   ]
  },
  {
   "cell_type": "code",
   "execution_count": 210,
   "metadata": {},
   "outputs": [
    {
     "data": {
      "text/plain": [
       "0.5454165812987104"
      ]
     },
     "execution_count": 210,
     "metadata": {},
     "output_type": "execute_result"
    }
   ],
   "source": [
    "lasso_tuned_train = model_lasso_tuned.best_score_\n",
    "lasso_tuned_train"
   ]
  },
  {
   "cell_type": "code",
   "execution_count": 211,
   "metadata": {},
   "outputs": [],
   "source": [
    "lasso_tuned = model_lasso_tuned.best_estimator_"
   ]
  },
  {
   "cell_type": "code",
   "execution_count": 212,
   "metadata": {},
   "outputs": [],
   "source": [
    "y_lasso_tuned = lasso_tuned.predict(X_test)"
   ]
  },
  {
   "cell_type": "code",
   "execution_count": 214,
   "metadata": {},
   "outputs": [
    {
     "data": {
      "text/plain": [
       "0.552615238112205"
      ]
     },
     "execution_count": 214,
     "metadata": {},
     "output_type": "execute_result"
    }
   ],
   "source": [
    "r2_tuned_lasso = r2_score(y_test, y_lasso_tuned)\n",
    "MAE_lasso_tuned = mean_absolute_error(y_test, y_lasso_tuned)\n",
    "MSE_lasso_tuned = mean_squared_error(y_test, y_lasso_tuned)\n",
    "RMSE_lasso_tuned = np.sqrt(MSE_lasso_tuned)\n"
   ]
  },
  {
   "cell_type": "markdown",
   "metadata": {},
   "source": [
    "#### KNN Hyperparameter Tuning"
   ]
  },
  {
   "cell_type": "code",
   "execution_count": 217,
   "metadata": {},
   "outputs": [],
   "source": [
    "KNN_tuning = KNeighborsRegressor()\n",
    "param_KNN = {'n_neighbors' :[5, 11, 15, 21, 31,3, 19 ],\n",
    "              'weights':['uniform','distance'],\n",
    "            'algorithm':['auto','ball_tree', 'kd_tree', 'brute'],\n",
    "            'p':[2, 1]}"
   ]
  },
  {
   "cell_type": "code",
   "execution_count": 218,
   "metadata": {},
   "outputs": [],
   "source": [
    "model_KNN_tuned = GridSearchCV(estimator = KNN_tuning, param_grid=param_KNN, n_jobs = -1, cv=5, verbose =1)"
   ]
  },
  {
   "cell_type": "code",
   "execution_count": 219,
   "metadata": {},
   "outputs": [
    {
     "name": "stdout",
     "output_type": "stream",
     "text": [
      "Fitting 5 folds for each of 80 candidates, totalling 400 fits\n"
     ]
    },
    {
     "name": "stderr",
     "output_type": "stream",
     "text": [
      "[Parallel(n_jobs=-1)]: Using backend LokyBackend with 8 concurrent workers.\n",
      "[Parallel(n_jobs=-1)]: Done  34 tasks      | elapsed:    4.6s\n",
      "[Parallel(n_jobs=-1)]: Done 184 tasks      | elapsed:   48.7s\n",
      "[Parallel(n_jobs=-1)]: Done 400 out of 400 | elapsed:  2.2min finished\n"
     ]
    },
    {
     "data": {
      "text/plain": [
       "GridSearchCV(cv=5, estimator=KNeighborsRegressor(), n_jobs=-1,\n",
       "             param_grid={'algorithm': ['auto', 'ball_tree', 'kd_tree', 'brute'],\n",
       "                         'n_neighbors': [5, 11, 15, 21, 31], 'p': [2, 1],\n",
       "                         'weights': ['uniform', 'distance']},\n",
       "             verbose=1)"
      ]
     },
     "execution_count": 219,
     "metadata": {},
     "output_type": "execute_result"
    }
   ],
   "source": [
    "model_KNN_tuned.fit(X_train, y_train)"
   ]
  },
  {
   "cell_type": "code",
   "execution_count": 220,
   "metadata": {},
   "outputs": [
    {
     "data": {
      "text/plain": [
       "0.5637338089083308"
      ]
     },
     "execution_count": 220,
     "metadata": {},
     "output_type": "execute_result"
    }
   ],
   "source": [
    "KNN_tuned_train = model_KNN_tuned.best_score_\n",
    "KNN_tuned_train"
   ]
  },
  {
   "cell_type": "code",
   "execution_count": 222,
   "metadata": {},
   "outputs": [],
   "source": [
    "KNN_tuned = model_KNN_tuned.best_estimator_"
   ]
  },
  {
   "cell_type": "code",
   "execution_count": 224,
   "metadata": {},
   "outputs": [],
   "source": [
    "y_KNN_tuned = KNN_tuned.predict(X_test)"
   ]
  },
  {
   "cell_type": "code",
   "execution_count": 278,
   "metadata": {},
   "outputs": [
    {
     "data": {
      "text/plain": [
       "0.5746345811784812"
      ]
     },
     "execution_count": 278,
     "metadata": {},
     "output_type": "execute_result"
    }
   ],
   "source": [
    "r2_KNN_tuned = r2_score(y_test, y_KNN_tuned)\n",
    "MAE_KNN_tuned = mean_absolute_error(y_test, y_KNN_tuned)\n",
    "MSE_KNN_tuned = mean_squared_error(y_test, y_KNN_tuned)\n",
    "RMSE_KNN_tuned = np.sqrt(MSE_KNN_tuned)\n",
    "\n",
    "r2_KNN_tuned"
   ]
  },
  {
   "cell_type": "markdown",
   "metadata": {},
   "source": [
    "#### Decision Tree "
   ]
  },
  {
   "cell_type": "code",
   "execution_count": 245,
   "metadata": {},
   "outputs": [],
   "source": [
    "DT_tuning = DecisionTreeRegressor()\n",
    "param_DT = {'max_depth':[None, 5, 9, 21,31 ],\n",
    "            'min_samples_split':[2, 5, 9, 13],\n",
    "            'min_samples_leaf':[1, 2, 5, 10],\n",
    "            'max_features':[None,0.2,0.5,0.8]}"
   ]
  },
  {
   "cell_type": "code",
   "execution_count": 246,
   "metadata": {},
   "outputs": [],
   "source": [
    "model_DT_tuned = GridSearchCV(estimator = DT_tuning, param_grid=param_DT, n_jobs = -1, cv=5, verbose =1)"
   ]
  },
  {
   "cell_type": "code",
   "execution_count": 247,
   "metadata": {},
   "outputs": [
    {
     "name": "stdout",
     "output_type": "stream",
     "text": [
      "Fitting 5 folds for each of 320 candidates, totalling 1600 fits\n"
     ]
    },
    {
     "name": "stderr",
     "output_type": "stream",
     "text": [
      "[Parallel(n_jobs=-1)]: Using backend LokyBackend with 8 concurrent workers.\n",
      "[Parallel(n_jobs=-1)]: Done  34 tasks      | elapsed:    2.8s\n",
      "[Parallel(n_jobs=-1)]: Done 232 tasks      | elapsed:    8.1s\n",
      "[Parallel(n_jobs=-1)]: Done 720 tasks      | elapsed:   17.3s\n",
      "[Parallel(n_jobs=-1)]: Done 1272 tasks      | elapsed:   32.0s\n",
      "[Parallel(n_jobs=-1)]: Done 1600 out of 1600 | elapsed:   44.8s finished\n"
     ]
    },
    {
     "data": {
      "text/plain": [
       "GridSearchCV(cv=5, estimator=DecisionTreeRegressor(), n_jobs=-1,\n",
       "             param_grid={'max_depth': [None, 5, 9, 21, 31],\n",
       "                         'max_features': [None, 0.2, 0.5, 0.8],\n",
       "                         'min_samples_leaf': [1, 2, 5, 10],\n",
       "                         'min_samples_split': [2, 5, 9, 13]},\n",
       "             verbose=1)"
      ]
     },
     "execution_count": 247,
     "metadata": {},
     "output_type": "execute_result"
    }
   ],
   "source": [
    "model_DT_tuned.fit(X_train, y_train)"
   ]
  },
  {
   "cell_type": "code",
   "execution_count": 250,
   "metadata": {},
   "outputs": [
    {
     "data": {
      "text/plain": [
       "0.8283130538689365"
      ]
     },
     "execution_count": 250,
     "metadata": {},
     "output_type": "execute_result"
    }
   ],
   "source": [
    "DT_tuned_train =  model_DT_tuned.best_score_\n",
    "DT_tuned_train"
   ]
  },
  {
   "cell_type": "code",
   "execution_count": 252,
   "metadata": {},
   "outputs": [],
   "source": [
    "model_DT_tuned = model_DT_tuned.best_estimator_"
   ]
  },
  {
   "cell_type": "code",
   "execution_count": 253,
   "metadata": {},
   "outputs": [],
   "source": [
    "y_DT_tuned = model_DT_tuned.predict(X_test)"
   ]
  },
  {
   "cell_type": "code",
   "execution_count": 255,
   "metadata": {},
   "outputs": [
    {
     "data": {
      "text/plain": [
       "0.8392556644425713"
      ]
     },
     "execution_count": 255,
     "metadata": {},
     "output_type": "execute_result"
    }
   ],
   "source": [
    "r2_tuned_DT =  r2_score(y_test, y_DT_tuned)\n",
    "MAE_tuned_DT = mean_absolute_error(y_test, y_DT_tuned)\n",
    "MSE_tuned_DT = mean_squared_error(y_test,y_DT_tuned)\n",
    "RMSE_tuned_DT = np.sqrt(MSE_tuned_DT)\n",
    "r2_tuned_DT"
   ]
  },
  {
   "cell_type": "markdown",
   "metadata": {},
   "source": [
    "#### Random Forest Hyper Parameter Tuning"
   ]
  },
  {
   "cell_type": "code",
   "execution_count": 264,
   "metadata": {},
   "outputs": [],
   "source": [
    "RF_tuning = RandomForestRegressor()\n",
    "param_RF = {'max_depth':[None, 5, 9],\n",
    "            'min_samples_split':[2, 5, 9],\n",
    "            'min_samples_leaf':[1, 5, 10],\n",
    "            'max_features':[None,0.2,0.5],\n",
    "           'n_estimators':[100, 200, 450]}"
   ]
  },
  {
   "cell_type": "code",
   "execution_count": 267,
   "metadata": {},
   "outputs": [],
   "source": [
    "model_RF_tuned = GridSearchCV(estimator = RF_tuning, param_grid = param_RF, n_jobs = -1, cv=3, verbose =1)"
   ]
  },
  {
   "cell_type": "code",
   "execution_count": 268,
   "metadata": {},
   "outputs": [
    {
     "name": "stdout",
     "output_type": "stream",
     "text": [
      "Fitting 3 folds for each of 243 candidates, totalling 729 fits\n"
     ]
    },
    {
     "name": "stderr",
     "output_type": "stream",
     "text": [
      "[Parallel(n_jobs=-1)]: Using backend LokyBackend with 8 concurrent workers.\n",
      "[Parallel(n_jobs=-1)]: Done  34 tasks      | elapsed:  2.3min\n",
      "[Parallel(n_jobs=-1)]: Done 184 tasks      | elapsed:  6.6min\n",
      "[Parallel(n_jobs=-1)]: Done 434 tasks      | elapsed: 10.9min\n",
      "[Parallel(n_jobs=-1)]: Done 729 out of 729 | elapsed: 18.9min finished\n"
     ]
    },
    {
     "data": {
      "text/plain": [
       "GridSearchCV(cv=3, estimator=RandomForestRegressor(), n_jobs=-1,\n",
       "             param_grid={'max_depth': [None, 5, 9],\n",
       "                         'max_features': [None, 0.2, 0.5],\n",
       "                         'min_samples_leaf': [1, 5, 10],\n",
       "                         'min_samples_split': [2, 5, 9],\n",
       "                         'n_estimators': [100, 200, 450]},\n",
       "             verbose=1)"
      ]
     },
     "execution_count": 268,
     "metadata": {},
     "output_type": "execute_result"
    }
   ],
   "source": [
    "model_RF_tuned.fit(X_train, y_train)"
   ]
  },
  {
   "cell_type": "code",
   "execution_count": 270,
   "metadata": {},
   "outputs": [
    {
     "data": {
      "text/plain": [
       "0.8859376389644132"
      ]
     },
     "execution_count": 270,
     "metadata": {},
     "output_type": "execute_result"
    }
   ],
   "source": [
    "RF_tuned_train = model_RF_tuned.best_score_\n",
    "RF_tuned_train"
   ]
  },
  {
   "cell_type": "code",
   "execution_count": 271,
   "metadata": {},
   "outputs": [],
   "source": [
    "RF_tuned = model_RF_tuned.best_estimator_"
   ]
  },
  {
   "cell_type": "code",
   "execution_count": 272,
   "metadata": {},
   "outputs": [],
   "source": [
    "y_RF_tuned =  RF_tuned.predict(X_test)"
   ]
  },
  {
   "cell_type": "code",
   "execution_count": 279,
   "metadata": {},
   "outputs": [
    {
     "data": {
      "text/plain": [
       "0.8927891241294054"
      ]
     },
     "execution_count": 279,
     "metadata": {},
     "output_type": "execute_result"
    }
   ],
   "source": [
    "r2_tuned_RF = r2_score(y_test, y_RF_tuned)\n",
    "MAE_RF_tuned = mean_absolute_error(y_test, y_RF_tuned)\n",
    "MSE_RF_tuned = mean_squared_error(y_test, y_RF_tuned)\n",
    "RMSE_RF_tuned = np.sqrt(MSE_RF_tuned)\n",
    "\n",
    "r2_tuned_RF"
   ]
  },
  {
   "cell_type": "code",
   "execution_count": 275,
   "metadata": {},
   "outputs": [
    {
     "data": {
      "image/png": "[encoded data removed]",
      "text/plain": [
       "<Figure size 1440x720 with 1 Axes>"
      ]
     },
     "metadata": {
      "needs_background": "light"
     },
     "output_type": "display_data"
    }
   ],
   "source": [
    "plt.figure(figsize = (20, 10 ))\n",
    "plt.scatter(y_RF_tuned, y_test, color= 'darkgreen', alpha = 0.5)\n",
    "plt.xlabel('Prediction Price')\n",
    "plt.ylabel('Actual Price')\n",
    "plt.title('Random Forest Scatter plot')\n",
    "\n",
    "plt.show()"
   ]
  },
  {
   "cell_type": "code",
   "execution_count": 289,
   "metadata": {},
   "outputs": [],
   "source": [
    "data2 = {'LinReg Tuned': [linreg_r2_tuned,MAE_linreg_tuned,MSE_linreg_tuned,RMSE_linreg_tuned],\n",
    "        'Linreg Train Tuned':[linreg_tuned_train, np.nan, np.nan, np.nan],\n",
    "       'Ridge Tuned':[r2_tuned_ridge, MAE_ridge_tuned, MSE_ridge_tuned, RMSE_ridge_tuned],\n",
    "        'Ridge Train Tuned':[ridge_tuned_train, np.nan, np.nan, np.nan],\n",
    "       'Lasso Tuned':[r2_tuned_lasso, MAE_lasso_tuned, MSE_lasso_tuned, RMSE_lasso_tuned],\n",
    "        'Lasso Train Tuned':[lasso_tuned_train, np.nan, np.nan, np.nan],\n",
    "        'KNN Tuned':[r2_KNN_tuned, MAE_KNN_tuned, MSE_KNN_tuned, RMSE_KNN_tuned],\n",
    "        'KNN train Tuned':[KNN_tuned_train, np.nan, np.nan, np.nan],\n",
    "        'Decision Tree Tuned':[r2_tuned_DT,MAE_tuned_DT,MSE_tuned_DT,RMSE_tuned_DT],\n",
    "        'Decision Tree Train Tuned':[DT_tuned_train, np.nan, np.nan, np.nan],\n",
    "        'Random Forest Tuned':[r2_tuned_RF, MAE_RF_tuned, MSE_RF_tuned, RMSE_RF_tuned],\n",
    "        'Random Forest Train Tuned':[RF_tuned_train,np.nan,np.nan,np.nan]}"
   ]
  },
  {
   "cell_type": "markdown",
   "metadata": {},
   "source": [
    "### Evaluation Matrix Before Tuning"
   ]
  },
  {
   "cell_type": "code",
   "execution_count": 290,
   "metadata": {
    "scrolled": true
   },
   "outputs": [
    {
     "data": {
      "text/html": [
       "<div>\n",
       "<style scoped>\n",
       "    .dataframe tbody tr th:only-of-type {\n",
       "        vertical-align: middle;\n",
       "    }\n",
       "\n",
       "    .dataframe tbody tr th {\n",
       "        vertical-align: top;\n",
       "    }\n",
       "\n",
       "    .dataframe thead th {\n",
       "        text-align: right;\n",
       "    }\n",
       "</style>\n",
       "<table border=\"1\" class=\"dataframe\">\n",
       "  <thead>\n",
       "    <tr style=\"text-align: right;\">\n",
       "      <th></th>\n",
       "      <th>LinReg</th>\n",
       "      <th>Linreg Train</th>\n",
       "      <th>Ridge</th>\n",
       "      <th>Ridge Train</th>\n",
       "      <th>Lasso</th>\n",
       "      <th>Lasso Train</th>\n",
       "      <th>KNN</th>\n",
       "      <th>KNN_train</th>\n",
       "      <th>Decision Tree</th>\n",
       "      <th>Decision Tree_train</th>\n",
       "      <th>Random_Forest</th>\n",
       "      <th>Random_Forest_Train</th>\n",
       "      <th>Linreg_poly2</th>\n",
       "      <th>Linreg_poly2_train</th>\n",
       "      <th>Ridge_poly2</th>\n",
       "      <th>Ridge_poly2_train</th>\n",
       "    </tr>\n",
       "  </thead>\n",
       "  <tbody>\n",
       "    <tr>\n",
       "      <th>R2</th>\n",
       "      <td>0.771034</td>\n",
       "      <td>0.770161</td>\n",
       "      <td>0.771033</td>\n",
       "      <td>0.770159</td>\n",
       "      <td>0.544610</td>\n",
       "      <td>0.536981</td>\n",
       "      <td>0.503799</td>\n",
       "      <td>0.674805</td>\n",
       "      <td>0.782464</td>\n",
       "      <td>0.996922</td>\n",
       "      <td>0.889684</td>\n",
       "      <td>0.981833</td>\n",
       "      <td>0.795710</td>\n",
       "      <td>0.807358</td>\n",
       "      <td>0.793556</td>\n",
       "      <td>0.804771</td>\n",
       "    </tr>\n",
       "    <tr>\n",
       "      <th>MAE</th>\n",
       "      <td>0.196430</td>\n",
       "      <td>NaN</td>\n",
       "      <td>0.196425</td>\n",
       "      <td>NaN</td>\n",
       "      <td>0.291703</td>\n",
       "      <td>NaN</td>\n",
       "      <td>0.293441</td>\n",
       "      <td>NaN</td>\n",
       "      <td>0.178250</td>\n",
       "      <td>NaN</td>\n",
       "      <td>0.125809</td>\n",
       "      <td>NaN</td>\n",
       "      <td>0.183546</td>\n",
       "      <td>NaN</td>\n",
       "      <td>0.184287</td>\n",
       "      <td>NaN</td>\n",
       "    </tr>\n",
       "    <tr>\n",
       "      <th>MSE</th>\n",
       "      <td>0.065263</td>\n",
       "      <td>NaN</td>\n",
       "      <td>0.065263</td>\n",
       "      <td>NaN</td>\n",
       "      <td>0.129801</td>\n",
       "      <td>NaN</td>\n",
       "      <td>0.141433</td>\n",
       "      <td>NaN</td>\n",
       "      <td>0.062711</td>\n",
       "      <td>NaN</td>\n",
       "      <td>0.031444</td>\n",
       "      <td>NaN</td>\n",
       "      <td>0.058229</td>\n",
       "      <td>NaN</td>\n",
       "      <td>0.058843</td>\n",
       "      <td>NaN</td>\n",
       "    </tr>\n",
       "    <tr>\n",
       "      <th>RMSE</th>\n",
       "      <td>0.255465</td>\n",
       "      <td>NaN</td>\n",
       "      <td>0.255466</td>\n",
       "      <td>NaN</td>\n",
       "      <td>0.360279</td>\n",
       "      <td>NaN</td>\n",
       "      <td>0.376076</td>\n",
       "      <td>NaN</td>\n",
       "      <td>0.250422</td>\n",
       "      <td>NaN</td>\n",
       "      <td>0.177324</td>\n",
       "      <td>NaN</td>\n",
       "      <td>0.241307</td>\n",
       "      <td>NaN</td>\n",
       "      <td>0.242576</td>\n",
       "      <td>NaN</td>\n",
       "    </tr>\n",
       "  </tbody>\n",
       "</table>\n",
       "</div>"
      ],
      "text/plain": [
       "        LinReg  Linreg Train     Ridge  Ridge Train     Lasso  Lasso Train  \\\n",
       "R2    0.771034      0.770161  0.771033     0.770159  0.544610     0.536981   \n",
       "MAE   0.196430           NaN  0.196425          NaN  0.291703          NaN   \n",
       "MSE   0.065263           NaN  0.065263          NaN  0.129801          NaN   \n",
       "RMSE  0.255465           NaN  0.255466          NaN  0.360279          NaN   \n",
       "\n",
       "           KNN  KNN_train  Decision Tree  Decision Tree_train  Random_Forest  \\\n",
       "R2    0.503799   0.674805       0.782464             0.996922       0.889684   \n",
       "MAE   0.293441        NaN       0.178250                  NaN       0.125809   \n",
       "MSE   0.141433        NaN       0.062711                  NaN       0.031444   \n",
       "RMSE  0.376076        NaN       0.250422                  NaN       0.177324   \n",
       "\n",
       "      Random_Forest_Train  Linreg_poly2  Linreg_poly2_train  Ridge_poly2  \\\n",
       "R2               0.981833      0.795710            0.807358     0.793556   \n",
       "MAE                   NaN      0.183546                 NaN     0.184287   \n",
       "MSE                   NaN      0.058229                 NaN     0.058843   \n",
       "RMSE                  NaN      0.241307                 NaN     0.242576   \n",
       "\n",
       "      Ridge_poly2_train  \n",
       "R2             0.804771  \n",
       "MAE                 NaN  \n",
       "MSE                 NaN  \n",
       "RMSE                NaN  "
      ]
     },
     "execution_count": 290,
     "metadata": {},
     "output_type": "execute_result"
    }
   ],
   "source": [
    "df_score"
   ]
  },
  {
   "cell_type": "markdown",
   "metadata": {},
   "source": [
    "### Evaluation Matrix After Tuning"
   ]
  },
  {
   "cell_type": "code",
   "execution_count": 291,
   "metadata": {},
   "outputs": [
    {
     "data": {
      "text/html": [
       "<div>\n",
       "<style scoped>\n",
       "    .dataframe tbody tr th:only-of-type {\n",
       "        vertical-align: middle;\n",
       "    }\n",
       "\n",
       "    .dataframe tbody tr th {\n",
       "        vertical-align: top;\n",
       "    }\n",
       "\n",
       "    .dataframe thead th {\n",
       "        text-align: right;\n",
       "    }\n",
       "</style>\n",
       "<table border=\"1\" class=\"dataframe\">\n",
       "  <thead>\n",
       "    <tr style=\"text-align: right;\">\n",
       "      <th></th>\n",
       "      <th>LinReg Tuned</th>\n",
       "      <th>Linreg Train Tuned</th>\n",
       "      <th>Ridge Tuned</th>\n",
       "      <th>Ridge Train Tuned</th>\n",
       "      <th>Lasso Tuned</th>\n",
       "      <th>Lasso Train Tuned</th>\n",
       "      <th>KNN Tuned</th>\n",
       "      <th>KNN train Tuned</th>\n",
       "      <th>Decision Tree Tuned</th>\n",
       "      <th>Decision Tree Train Tuned</th>\n",
       "      <th>Random Forest Tuned</th>\n",
       "      <th>Random Forest Train Tuned</th>\n",
       "    </tr>\n",
       "  </thead>\n",
       "  <tbody>\n",
       "    <tr>\n",
       "      <th>R2</th>\n",
       "      <td>0.770993</td>\n",
       "      <td>0.769223</td>\n",
       "      <td>0.770993</td>\n",
       "      <td>0.769224</td>\n",
       "      <td>0.552615</td>\n",
       "      <td>0.545417</td>\n",
       "      <td>0.574635</td>\n",
       "      <td>0.563734</td>\n",
       "      <td>0.839256</td>\n",
       "      <td>0.828313</td>\n",
       "      <td>0.892789</td>\n",
       "      <td>0.885938</td>\n",
       "    </tr>\n",
       "    <tr>\n",
       "      <th>MAE</th>\n",
       "      <td>0.196464</td>\n",
       "      <td>NaN</td>\n",
       "      <td>0.196464</td>\n",
       "      <td>NaN</td>\n",
       "      <td>0.287632</td>\n",
       "      <td>NaN</td>\n",
       "      <td>0.270778</td>\n",
       "      <td>NaN</td>\n",
       "      <td>0.154833</td>\n",
       "      <td>NaN</td>\n",
       "      <td>0.124539</td>\n",
       "      <td>NaN</td>\n",
       "    </tr>\n",
       "    <tr>\n",
       "      <th>MSE</th>\n",
       "      <td>0.065274</td>\n",
       "      <td>NaN</td>\n",
       "      <td>0.065274</td>\n",
       "      <td>NaN</td>\n",
       "      <td>0.127519</td>\n",
       "      <td>NaN</td>\n",
       "      <td>0.121243</td>\n",
       "      <td>NaN</td>\n",
       "      <td>0.045817</td>\n",
       "      <td>NaN</td>\n",
       "      <td>0.030559</td>\n",
       "      <td>NaN</td>\n",
       "    </tr>\n",
       "    <tr>\n",
       "      <th>RMSE</th>\n",
       "      <td>0.255488</td>\n",
       "      <td>NaN</td>\n",
       "      <td>0.255488</td>\n",
       "      <td>NaN</td>\n",
       "      <td>0.357098</td>\n",
       "      <td>NaN</td>\n",
       "      <td>0.348199</td>\n",
       "      <td>NaN</td>\n",
       "      <td>0.214050</td>\n",
       "      <td>NaN</td>\n",
       "      <td>0.174810</td>\n",
       "      <td>NaN</td>\n",
       "    </tr>\n",
       "  </tbody>\n",
       "</table>\n",
       "</div>"
      ],
      "text/plain": [
       "      LinReg Tuned  Linreg Train Tuned  Ridge Tuned  Ridge Train Tuned  \\\n",
       "R2        0.770993            0.769223     0.770993           0.769224   \n",
       "MAE       0.196464                 NaN     0.196464                NaN   \n",
       "MSE       0.065274                 NaN     0.065274                NaN   \n",
       "RMSE      0.255488                 NaN     0.255488                NaN   \n",
       "\n",
       "      Lasso Tuned  Lasso Train Tuned  KNN Tuned  KNN train Tuned  \\\n",
       "R2       0.552615           0.545417   0.574635         0.563734   \n",
       "MAE      0.287632                NaN   0.270778              NaN   \n",
       "MSE      0.127519                NaN   0.121243              NaN   \n",
       "RMSE     0.357098                NaN   0.348199              NaN   \n",
       "\n",
       "      Decision Tree Tuned  Decision Tree Train Tuned  Random Forest Tuned  \\\n",
       "R2               0.839256                   0.828313             0.892789   \n",
       "MAE              0.154833                        NaN             0.124539   \n",
       "MSE              0.045817                        NaN             0.030559   \n",
       "RMSE             0.214050                        NaN             0.174810   \n",
       "\n",
       "      Random Forest Train Tuned  \n",
       "R2                     0.885938  \n",
       "MAE                         NaN  \n",
       "MSE                         NaN  \n",
       "RMSE                        NaN  "
      ]
     },
     "execution_count": 291,
     "metadata": {},
     "output_type": "execute_result"
    }
   ],
   "source": [
    "df_score_tuned =  pd.DataFrame(data = data2, index = ['R2', 'MAE', 'MSE', 'RMSE'])\n",
    "df_score_tuned"
   ]
  },
  {
   "cell_type": "markdown",
   "metadata": {},
   "source": [
    "## Conclusion :\n",
    "\n",
    "- Random Forest with HyperParameter Tuning has the Higest evaluation matrix to predict house prices in King County with the accuracy of 89 %"
   ]
  },
  {
   "cell_type": "code",
   "execution_count": null,
   "metadata": {},
   "outputs": [],
   "source": []
  }
 ],
 "metadata": {
  "kernelspec": {
   "display_name": "Python 3",
   "language": "python",
   "name": "python3"
  },
  "language_info": {
   "codemirror_mode": {
    "name": "ipython",
    "version": 3
   },
   "file_extension": ".py",
   "mimetype": "text/x-python",
   "name": "python",
   "nbconvert_exporter": "python",
   "pygments_lexer": "ipython3",
   "version": "3.8.3"
  }
 },
 "nbformat": 4,
 "nbformat_minor": 4
}
